{
  "cells": [
    {
      "cell_type": "markdown",
      "metadata": {
        "id": "view-in-github",
        "colab_type": "text"
      },
      "source": [
        "<a href=\"https://colab.research.google.com/github/fhfmendes04/Awesome-LLM/blob/main/Tatui_Trainer.ipynb\" target=\"_parent\"><img src=\"https://colab.research.google.com/assets/colab-badge.svg\" alt=\"Open In Colab\"/></a>"
      ]
    },
    {
      "cell_type": "code",
      "execution_count": null,
      "metadata": {
        "colab": {
          "base_uri": "https://localhost:8080/"
        },
        "id": "I3Gwv2x_BDGL",
        "outputId": "22cee04f-2164-49a7-fce6-e3392acd5cd7"
      },
      "outputs": [
        {
          "output_type": "stream",
          "name": "stdout",
          "text": [
            "\u001b[2K   \u001b[90m━━━━━━━━━━━━━━━━━━━━━━━━━━━━━━━━━━━━━━━━\u001b[0m \u001b[32m320.7/320.7 kB\u001b[0m \u001b[31m5.9 MB/s\u001b[0m eta \u001b[36m0:00:00\u001b[0m\n",
            "\u001b[2K   \u001b[90m━━━━━━━━━━━━━━━━━━━━━━━━━━━━━━━━━━━━━━━━\u001b[0m \u001b[32m122.4/122.4 MB\u001b[0m \u001b[31m5.4 MB/s\u001b[0m eta \u001b[36m0:00:00\u001b[0m\n",
            "\u001b[?25h"
          ]
        }
      ],
      "source": [
        "!pip install -q accelerate peft bitsandbytes transformers"
      ]
    },
    {
      "cell_type": "code",
      "execution_count": null,
      "metadata": {
        "colab": {
          "base_uri": "https://localhost:8080/"
        },
        "id": "Lx0yn94XBDWi",
        "outputId": "ac5e6bb0-2111-4be8-a1cc-2ce7b2316341"
      },
      "outputs": [
        {
          "output_type": "stream",
          "name": "stdout",
          "text": [
            "\u001b[2K   \u001b[90m━━━━━━━━━━━━━━━━━━━━━━━━━━━━━━━━━━━━━━━━\u001b[0m \u001b[32m472.7/472.7 kB\u001b[0m \u001b[31m1.9 MB/s\u001b[0m eta \u001b[36m0:00:00\u001b[0m\n",
            "\u001b[2K   \u001b[90m━━━━━━━━━━━━━━━━━━━━━━━━━━━━━━━━━━━━━━━━\u001b[0m \u001b[32m316.6/316.6 kB\u001b[0m \u001b[31m11.4 MB/s\u001b[0m eta \u001b[36m0:00:00\u001b[0m\n",
            "\u001b[2K   \u001b[90m━━━━━━━━━━━━━━━━━━━━━━━━━━━━━━━━━━━━━━━━\u001b[0m \u001b[32m116.3/116.3 kB\u001b[0m \u001b[31m7.3 MB/s\u001b[0m eta \u001b[36m0:00:00\u001b[0m\n",
            "\u001b[2K   \u001b[90m━━━━━━━━━━━━━━━━━━━━━━━━━━━━━━━━━━━━━━━━\u001b[0m \u001b[32m134.8/134.8 kB\u001b[0m \u001b[31m10.0 MB/s\u001b[0m eta \u001b[36m0:00:00\u001b[0m\n",
            "\u001b[2K   \u001b[90m━━━━━━━━━━━━━━━━━━━━━━━━━━━━━━━━━━━━━━━━\u001b[0m \u001b[32m109.8/109.8 kB\u001b[0m \u001b[31m3.7 MB/s\u001b[0m eta \u001b[36m0:00:00\u001b[0m\n",
            "\u001b[2K   \u001b[90m━━━━━━━━━━━━━━━━━━━━━━━━━━━━━━━━━━━━━━━━\u001b[0m \u001b[32m194.1/194.1 kB\u001b[0m \u001b[31m6.4 MB/s\u001b[0m eta \u001b[36m0:00:00\u001b[0m\n",
            "\u001b[?25h"
          ]
        }
      ],
      "source": [
        "!pip install -q sentencepiece tokenizers datasets trl"
      ]
    },
    {
      "cell_type": "code",
      "execution_count": null,
      "metadata": {
        "id": "W0EK94dCObZX"
      },
      "outputs": [],
      "source": [
        "# Imports\n",
        "import os\n",
        "import torch\n",
        "import datasets\n",
        "import pandas as pd\n",
        "import matplotlib.pyplot as plt\n",
        "import seaborn as sns\n",
        "from tqdm import tqdm\n",
        "from copy import deepcopy\n",
        "import random\n",
        "from datasets import load_dataset, Dataset, DatasetDict\n",
        "from transformers import (AutoModelForCausalLM,\n",
        "                          AutoTokenizer,\n",
        "                          BitsAndBytesConfig,\n",
        "                          HfArgumentParser,\n",
        "                          TrainingArguments,\n",
        "                          DataCollatorForLanguageModeling,\n",
        "                          pipeline,\n",
        "                          Trainer,\n",
        "                          logging)\n",
        "from peft import LoraConfig, PeftModel, get_peft_model,prepare_model_for_kbit_training\n",
        "from trl import SFTTrainer\n",
        "import warnings\n",
        "import wandb\n",
        "warnings.filterwarnings('ignore')\n",
        "seed = 42\n",
        "#torch.manual_seed(seed)"
      ]
    },
    {
      "cell_type": "code",
      "execution_count": null,
      "metadata": {
        "id": "4jEJ2WqwO717",
        "colab": {
          "base_uri": "https://localhost:8080/",
          "height": 38
        },
        "outputId": "c1fce6d2-afa5-45be-e19a-66e49426b150"
      },
      "outputs": [
        {
          "output_type": "execute_result",
          "data": {
            "text/html": [
              "<button onClick=\"this.nextSibling.style.display='block';this.style.display='none';\">Display W&B run</button><iframe src='?jupyter=true' style='border:none;width:100%;height:420px;display:none;'></iframe>"
            ],
            "text/plain": [
              "<wandb.sdk.wandb_run.Run at 0x7920afa5bc70>"
            ]
          },
          "metadata": {},
          "execution_count": 4
        }
      ],
      "source": [
        "# Define o nível de log para CRITICAL\n",
        "logging.set_verbosity(logging.CRITICAL)\n",
        "os.environ['WANDB_DISABLED'] = 'true'\n",
        "wandb.init(mode='disabled')"
      ]
    },
    {
      "cell_type": "code",
      "source": [
        "# Especifica o diretório de trabalho\n",
        "caminho = \"/content/drive/MyDrive/USP/Mestrado Sistema de Informação/Pesquisa/code\"\n",
        "os.chdir(caminho)\n",
        "print(os.getcwd())\n"
      ],
      "metadata": {
        "colab": {
          "base_uri": "https://localhost:8080/"
        },
        "id": "nvpdby2X7Rs8",
        "outputId": "b7de1c55-7f41-49bb-94cb-c74b00716865"
      },
      "execution_count": null,
      "outputs": [
        {
          "output_type": "stream",
          "name": "stdout",
          "text": [
            "/content/drive/MyDrive/USP/Mestrado Sistema de Informação/Pesquisa/code\n"
          ]
        }
      ]
    },
    {
      "cell_type": "code",
      "execution_count": null,
      "metadata": {
        "colab": {
          "base_uri": "https://localhost:8080/"
        },
        "id": "tdG0bjqVO75D",
        "outputId": "d01053b7-c0a7-4171-de52-d798c7d9e7a2"
      },
      "outputs": [
        {
          "output_type": "stream",
          "name": "stdout",
          "text": [
            "Número de GPUs: 1\n",
            "Modelo GPU: Tesla T4\n",
            "Total Memória [GB] da GPU: 15.835660288\n"
          ]
        }
      ],
      "source": [
        "# Verifica o modelo da GPU\n",
        "if torch.cuda.is_available():\n",
        "    print('Número de GPUs:', torch.cuda.device_count())\n",
        "    print('Modelo GPU:', torch.cuda.get_device_name(0))\n",
        "    print('Total Memória [GB] da GPU:',torch.cuda.get_device_properties(0).total_memory / 1e9)"
      ]
    },
    {
      "cell_type": "code",
      "execution_count": null,
      "metadata": {
        "id": "z1afBM45O78D"
      },
      "outputs": [],
      "source": [
        "# Nome do repositório do LLM pré-treinado\n",
        "repositorio_hf = \"openai-community/gpt2\" #\"\"NousResearch/Llama-2-7\"\n",
        "\n",
        "# Nome do novo modelo\n",
        "#modelo_dsa = \"novo_modelo_dsa\""
      ]
    },
    {
      "cell_type": "markdown",
      "metadata": {
        "id": "XkA5w88oDxJQ"
      },
      "source": [
        "## Datasets"
      ]
    },
    {
      "cell_type": "code",
      "execution_count": null,
      "metadata": {
        "id": "8z1poiVOClrV"
      },
      "outputs": [],
      "source": [
        "def tabular_to_text(dado, colunas, sequencial=False):\n",
        "  frase = \"|\"\n",
        "  tamanho = len(colunas)\n",
        "  if sequencial:\n",
        "    for t in range(tamanho):\n",
        "      c = colunas[t]\n",
        "      d = dado[t]\n",
        "      palavra = f'{c} -> {str(d)}| '\n",
        "      frase += palavra\n",
        "  else:\n",
        "    col = deepcopy(colunas)\n",
        "    flag = True\n",
        "    while flag:\n",
        "      selected_item = random.choice(col)\n",
        "      col.remove(selected_item)\n",
        "      t = colunas.index(selected_item)\n",
        "      d = dado[t]\n",
        "      palavra = f'{selected_item} -> {str(d)}| '\n",
        "      frase += palavra\n",
        "      if len(col) == 0:\n",
        "        flag = False\n",
        "  return frase"
      ]
    },
    {
      "cell_type": "code",
      "source": [
        "#pasta = \"./data/GiveMeSomeCredit/\"\n",
        "pasta = \"./data/Adult/\"\n",
        "\n",
        "arquivo = \"adult.csv\""
      ],
      "metadata": {
        "id": "T0ROYUKIB2-q"
      },
      "execution_count": null,
      "outputs": []
    },
    {
      "cell_type": "code",
      "source": [
        "df = pd.read_csv(pasta + arquivo)\n",
        "df.info()"
      ],
      "metadata": {
        "colab": {
          "base_uri": "https://localhost:8080/"
        },
        "id": "q9a-cCqKBYZ_",
        "outputId": "02a40a32-1e74-4e9d-ffab-2d987117c2f6"
      },
      "execution_count": null,
      "outputs": [
        {
          "output_type": "stream",
          "name": "stdout",
          "text": [
            "<class 'pandas.core.frame.DataFrame'>\n",
            "RangeIndex: 48842 entries, 0 to 48841\n",
            "Data columns (total 15 columns):\n",
            " #   Column           Non-Null Count  Dtype \n",
            "---  ------           --------------  ----- \n",
            " 0   age              48842 non-null  int64 \n",
            " 1   workclass        48842 non-null  object\n",
            " 2   fnlwgt           48842 non-null  int64 \n",
            " 3   education        48842 non-null  object\n",
            " 4   educational-num  48842 non-null  int64 \n",
            " 5   marital-status   48842 non-null  object\n",
            " 6   occupation       48842 non-null  object\n",
            " 7   relationship     48842 non-null  object\n",
            " 8   race             48842 non-null  object\n",
            " 9   gender           48842 non-null  object\n",
            " 10  capital-gain     48842 non-null  int64 \n",
            " 11  capital-loss     48842 non-null  int64 \n",
            " 12  hours-per-week   48842 non-null  int64 \n",
            " 13  native-country   48842 non-null  object\n",
            " 14  income           48842 non-null  object\n",
            "dtypes: int64(6), object(9)\n",
            "memory usage: 5.6+ MB\n"
          ]
        }
      ]
    },
    {
      "cell_type": "code",
      "source": [
        "# Missing\n",
        "df.isnull().sum()"
      ],
      "metadata": {
        "colab": {
          "base_uri": "https://localhost:8080/",
          "height": 554
        },
        "id": "ab2ABWLYBYfp",
        "outputId": "51ab2227-a8f7-49ab-9b7a-815f39073075"
      },
      "execution_count": null,
      "outputs": [
        {
          "output_type": "execute_result",
          "data": {
            "text/plain": [
              "age                0\n",
              "workclass          0\n",
              "fnlwgt             0\n",
              "education          0\n",
              "educational-num    0\n",
              "marital-status     0\n",
              "occupation         0\n",
              "relationship       0\n",
              "race               0\n",
              "gender             0\n",
              "capital-gain       0\n",
              "capital-loss       0\n",
              "hours-per-week     0\n",
              "native-country     0\n",
              "income             0\n",
              "dtype: int64"
            ],
            "text/html": [
              "<div>\n",
              "<style scoped>\n",
              "    .dataframe tbody tr th:only-of-type {\n",
              "        vertical-align: middle;\n",
              "    }\n",
              "\n",
              "    .dataframe tbody tr th {\n",
              "        vertical-align: top;\n",
              "    }\n",
              "\n",
              "    .dataframe thead th {\n",
              "        text-align: right;\n",
              "    }\n",
              "</style>\n",
              "<table border=\"1\" class=\"dataframe\">\n",
              "  <thead>\n",
              "    <tr style=\"text-align: right;\">\n",
              "      <th></th>\n",
              "      <th>0</th>\n",
              "    </tr>\n",
              "  </thead>\n",
              "  <tbody>\n",
              "    <tr>\n",
              "      <th>age</th>\n",
              "      <td>0</td>\n",
              "    </tr>\n",
              "    <tr>\n",
              "      <th>workclass</th>\n",
              "      <td>0</td>\n",
              "    </tr>\n",
              "    <tr>\n",
              "      <th>fnlwgt</th>\n",
              "      <td>0</td>\n",
              "    </tr>\n",
              "    <tr>\n",
              "      <th>education</th>\n",
              "      <td>0</td>\n",
              "    </tr>\n",
              "    <tr>\n",
              "      <th>educational-num</th>\n",
              "      <td>0</td>\n",
              "    </tr>\n",
              "    <tr>\n",
              "      <th>marital-status</th>\n",
              "      <td>0</td>\n",
              "    </tr>\n",
              "    <tr>\n",
              "      <th>occupation</th>\n",
              "      <td>0</td>\n",
              "    </tr>\n",
              "    <tr>\n",
              "      <th>relationship</th>\n",
              "      <td>0</td>\n",
              "    </tr>\n",
              "    <tr>\n",
              "      <th>race</th>\n",
              "      <td>0</td>\n",
              "    </tr>\n",
              "    <tr>\n",
              "      <th>gender</th>\n",
              "      <td>0</td>\n",
              "    </tr>\n",
              "    <tr>\n",
              "      <th>capital-gain</th>\n",
              "      <td>0</td>\n",
              "    </tr>\n",
              "    <tr>\n",
              "      <th>capital-loss</th>\n",
              "      <td>0</td>\n",
              "    </tr>\n",
              "    <tr>\n",
              "      <th>hours-per-week</th>\n",
              "      <td>0</td>\n",
              "    </tr>\n",
              "    <tr>\n",
              "      <th>native-country</th>\n",
              "      <td>0</td>\n",
              "    </tr>\n",
              "    <tr>\n",
              "      <th>income</th>\n",
              "      <td>0</td>\n",
              "    </tr>\n",
              "  </tbody>\n",
              "</table>\n",
              "</div><br><label><b>dtype:</b> int64</label>"
            ]
          },
          "metadata": {},
          "execution_count": 10
        }
      ]
    },
    {
      "cell_type": "code",
      "source": [
        "df['income'].value_counts()"
      ],
      "metadata": {
        "colab": {
          "base_uri": "https://localhost:8080/",
          "height": 178
        },
        "id": "QjzI8i0fBYi0",
        "outputId": "d09515de-249f-480b-f522-e354c3a53508"
      },
      "execution_count": null,
      "outputs": [
        {
          "output_type": "execute_result",
          "data": {
            "text/plain": [
              "income\n",
              "<=50K    37155\n",
              ">50K     11687\n",
              "Name: count, dtype: int64"
            ],
            "text/html": [
              "<div>\n",
              "<style scoped>\n",
              "    .dataframe tbody tr th:only-of-type {\n",
              "        vertical-align: middle;\n",
              "    }\n",
              "\n",
              "    .dataframe tbody tr th {\n",
              "        vertical-align: top;\n",
              "    }\n",
              "\n",
              "    .dataframe thead th {\n",
              "        text-align: right;\n",
              "    }\n",
              "</style>\n",
              "<table border=\"1\" class=\"dataframe\">\n",
              "  <thead>\n",
              "    <tr style=\"text-align: right;\">\n",
              "      <th></th>\n",
              "      <th>count</th>\n",
              "    </tr>\n",
              "    <tr>\n",
              "      <th>income</th>\n",
              "      <th></th>\n",
              "    </tr>\n",
              "  </thead>\n",
              "  <tbody>\n",
              "    <tr>\n",
              "      <th>&lt;=50K</th>\n",
              "      <td>37155</td>\n",
              "    </tr>\n",
              "    <tr>\n",
              "      <th>&gt;50K</th>\n",
              "      <td>11687</td>\n",
              "    </tr>\n",
              "  </tbody>\n",
              "</table>\n",
              "</div><br><label><b>dtype:</b> int64</label>"
            ]
          },
          "metadata": {},
          "execution_count": 11
        }
      ]
    },
    {
      "cell_type": "code",
      "source": [
        "# Figura\n",
        "plt.figure(figsize = (17,(100)/20))\n",
        "\n",
        "plt.subplot(121)\n",
        "\n",
        "plt.pie(round(df['income'].value_counts() / len(df) * 100, 2),\n",
        "        labels = list(df['income'].value_counts().index),\n",
        "        autopct = \"%.2f%%\",\n",
        "        explode = (0,0.1))\n",
        "\n",
        "plt.axis(\"equal\")\n",
        "plt.title(\"Variável Target\", size = 15)\n",
        "\n",
        "plt.subplot(122)\n",
        "ax = sns.countplot(data = df, x = 'income')\n",
        "plt.title(\"Variável Target\", fontsize = 15)\n",
        "for p in ax.patches:\n",
        "    ax.annotate(f'\\n{p.get_height()}',\n",
        "                (p.get_x()+0.4,\n",
        "                 p.get_height()),\n",
        "                ha = 'center',\n",
        "                va = 'top',\n",
        "                color = 'white',\n",
        "                size = 12)"
      ],
      "metadata": {
        "colab": {
          "base_uri": "https://localhost:8080/",
          "height": 321
        },
        "id": "VhMkO7luM9_i",
        "outputId": "85c7476f-ac7c-4847-edae-d4e5d606fc88"
      },
      "execution_count": null,
      "outputs": [
        {
          "output_type": "display_data",
          "data": {
            "text/plain": [
              "<Figure size 1700x500 with 2 Axes>"
            ],
            "image/png": "[encoded data removed]"
          },
          "metadata": {}
        }
      ]
    },
    {
      "cell_type": "code",
      "execution_count": null,
      "metadata": {
        "colab": {
          "base_uri": "https://localhost:8080/",
          "height": 88
        },
        "id": "zE4w21a2VdX1",
        "outputId": "9649fa24-4ab4-4d53-db0b-6e767a5c8d06"
      },
      "outputs": [
        {
          "output_type": "execute_result",
          "data": {
            "text/plain": [
              "'<s>#### |gender -> Male| relationship -> Husband| fnlwgt -> 89814| capital-gain -> 0| educational-num -> 9| native-country -> United-States| marital-status -> Married-civ-spouse| occupation -> Farming-fishing| workclass -> Private| age -> 38| capital-loss -> 0| income -> <=50K| race -> White| education -> HS-grad| hours-per-week -> 50|  #####<s>'"
            ],
            "application/vnd.google.colaboratory.intrinsic+json": {
              "type": "string"
            }
          },
          "metadata": {},
          "execution_count": 76
        }
      ],
      "source": [
        " \"<s>#### \" + str(tabular_to_text(list(df.iloc[1].values), feature, sequencial=False)) + \" #####<s>\""
      ]
    },
    {
      "cell_type": "code",
      "execution_count": null,
      "metadata": {
        "colab": {
          "base_uri": "https://localhost:8080/"
        },
        "id": "lYyekZIgRgZ6",
        "outputId": "2627649a-83da-4d06-a908-a322996fbdf5"
      },
      "outputs": [
        {
          "output_type": "stream",
          "name": "stderr",
          "text": [
            "100%|██████████| 48842/48842 [00:08<00:00, 5672.04it/s] \n"
          ]
        },
        {
          "output_type": "execute_result",
          "data": {
            "text/plain": [
              "DatasetDict({\n",
              "    train: Dataset({\n",
              "        features: ['text', '__index_level_0__'],\n",
              "        num_rows: 8000\n",
              "    })\n",
              "})"
            ]
          },
          "metadata": {},
          "execution_count": 144
        }
      ],
      "source": [
        "df_text = []\n",
        "tamanho = len(df)\n",
        "for i in tqdm(range(tamanho)):\n",
        "  df_text.append(\"<s>#### \" + str(tabular_to_text(list(df.iloc[i].values), feature, sequencial=False)) + \" #####<s>\")\n",
        "\n",
        "\n",
        "df_text = pd.DataFrame(df_text[:10000])#tamanho de teste\n",
        "df_text.columns = [\"text\"]\n",
        "\n",
        "train_set = df_text.sample(frac=0.8, random_state=seed)\n",
        "test_set = df_text.drop(train_set.index)\n",
        "\n",
        "\n",
        "dataset_treino = Dataset.from_pandas(train_set)\n",
        "dataset_treino = DatasetDict({'train': dataset_treino})\n",
        "#dataset_treino = dataset_treino['train'].remove_columns('__index_level_0__')\n",
        "dataset_treino"
      ]
    },
    {
      "cell_type": "code",
      "execution_count": null,
      "metadata": {
        "colab": {
          "base_uri": "https://localhost:8080/"
        },
        "id": "AuTLhlitW1a-",
        "outputId": "b56ff541-e784-4f37-8493-82f3943db556"
      },
      "outputs": [
        {
          "output_type": "execute_result",
          "data": {
            "text/plain": [
              "DatasetDict({\n",
              "    test: Dataset({\n",
              "        features: ['text', '__index_level_0__'],\n",
              "        num_rows: 2000\n",
              "    })\n",
              "})"
            ]
          },
          "metadata": {},
          "execution_count": 145
        }
      ],
      "source": [
        "dataset_teste = Dataset.from_pandas(test_set)\n",
        "dataset_teste = DatasetDict({'test': dataset_teste})\n",
        "#dataset_teste = dataset_teste['test'].remove_columns('__index_level_0__')\n",
        "dataset_teste"
      ]
    },
    {
      "cell_type": "code",
      "execution_count": null,
      "metadata": {
        "id": "2cVQ-1WE8Y1L"
      },
      "outputs": [],
      "source": [
        "import matplotlib.pyplot as plt\n",
        "\n",
        "def plot_data_lengths(dataset_treino, dataset_teste):\n",
        "    lengths = [len(x['text']) for x in dataset_treino]\n",
        "    lengths += [len(x['text']) for x in dataset_teste]\n",
        "    print(len(lengths))\n",
        "\n",
        "    # Plotting the histogram\n",
        "    plt.figure(figsize=(10, 6))\n",
        "    plt.hist(lengths, bins=20, alpha=0.7, color='blue')\n",
        "    plt.xlabel('Tamanho da entrada')\n",
        "    plt.ylabel('Frequencia')\n",
        "    #plt.title('DTamanho das entradas')\n",
        "    plt.show()"
      ]
    },
    {
      "cell_type": "code",
      "execution_count": null,
      "metadata": {
        "colab": {
          "base_uri": "https://localhost:8080/",
          "height": 559
        },
        "id": "lKO4EvNV81QM",
        "outputId": "9b23f92a-30a7-4c1d-e074-25a8d1ad62c0"
      },
      "outputs": [
        {
          "output_type": "stream",
          "name": "stdout",
          "text": [
            "1000\n"
          ]
        },
        {
          "output_type": "display_data",
          "data": {
            "text/plain": [
              "<Figure size 1000x600 with 1 Axes>"
            ],
            "image/png": "[encoded data removed]"
          },
          "metadata": {}
        }
      ],
      "source": [
        "plot_data_lengths(dataset_treino['train'], dataset_teste['test'])"
      ]
    },
    {
      "cell_type": "markdown",
      "metadata": {
        "id": "fttwvsNxCVdx"
      },
      "source": [
        "## Definindo os Parâmetros de Configuração"
      ]
    },
    {
      "cell_type": "code",
      "execution_count": null,
      "metadata": {
        "id": "5mQKG4DOB61Y"
      },
      "outputs": [],
      "source": [
        "# Parâmetros LoRA\n",
        "lora_r = 32\n",
        "lora_alpha = 16\n",
        "lora_dropout = 0.1"
      ]
    },
    {
      "cell_type": "code",
      "execution_count": null,
      "metadata": {
        "id": "UwYIxaCOB64q"
      },
      "outputs": [],
      "source": [
        "# Parâmetros bitsandbytes (QLoRa)\n",
        "use_4bit = True\n",
        "bnb_4bit_compute_dtype = \"float16\"\n",
        "bnb_4bit_quant_type = \"nf4\"\n",
        "use_nested_quant = False"
      ]
    },
    {
      "cell_type": "code",
      "execution_count": null,
      "metadata": {
        "id": "62dwfH7nB67h"
      },
      "outputs": [],
      "source": [
        "# Parâmetros do ajuste fino\n",
        "output_dir = \"saida\"\n",
        "num_train_epochs = 5 #EPOCHS\n",
        "fp16 = True\n",
        "bf16 = False\n",
        "per_device_train_batch_size = 1 #4\n",
        "per_device_eval_batch_size = 1  #4\n",
        "gradient_accumulation_steps = 1\n",
        "gradient_checkpointing = True\n",
        "max_grad_norm = 0.3\n",
        "learning_rate = 2e-4\n",
        "weight_decay = 0.001\n",
        "optim = \"paged_adamw_32bit\"\n",
        "lr_scheduler_type = \"cosine\"\n",
        "max_steps = -1\n",
        "warmup_ratio = 0.03"
      ]
    },
    {
      "cell_type": "code",
      "execution_count": null,
      "metadata": {
        "id": "7Dihr78FB6-w"
      },
      "outputs": [],
      "source": [
        "# Agrupando sequências em lotes de mesmo comprimento\n",
        "group_by_length = True\n",
        "save_steps = 0\n",
        "logging_steps = 400"
      ]
    },
    {
      "cell_type": "code",
      "execution_count": null,
      "metadata": {
        "id": "YHWSFc64Cd2_"
      },
      "outputs": [],
      "source": [
        "# Precisão dos dados para treinamento\n",
        "compute_dtype = getattr(torch, bnb_4bit_compute_dtype)"
      ]
    },
    {
      "cell_type": "code",
      "execution_count": null,
      "metadata": {
        "id": "CIFAOhsGCd_B"
      },
      "outputs": [],
      "source": [
        "# Definindo os parâmetros da quantização\n",
        "bnb_config = BitsAndBytesConfig(load_in_4bit = use_4bit,\n",
        "                                bnb_4bit_quant_type = bnb_4bit_quant_type,\n",
        "                                bnb_4bit_compute_dtype = compute_dtype,\n",
        "                                bnb_4bit_use_double_quant = use_nested_quant)"
      ]
    },
    {
      "cell_type": "markdown",
      "metadata": {
        "id": "TVt2IwMg12-P"
      },
      "source": [
        "## Modelo Pré-Treinado"
      ]
    },
    {
      "cell_type": "code",
      "execution_count": null,
      "metadata": {
        "id": "9cMgr1P_CeCS"
      },
      "outputs": [],
      "source": [
        "# Carregando o modelo base pré-treinado\n",
        "modelo = AutoModelForCausalLM.from_pretrained(repositorio_hf,\n",
        "                                              quantization_config = bnb_config,\n",
        "                                              #trust_remote_code=True,\n",
        "                                              #use_auth_token=True,\n",
        "                                              device_map = \"auto\")"
      ]
    },
    {
      "cell_type": "code",
      "execution_count": null,
      "metadata": {
        "id": "kbpprTl7CuB3"
      },
      "outputs": [],
      "source": [
        "# Não usaremos o cache\n",
        "modelo.config.use_cache = False\n",
        "modelo.config.pretraining_tp = 1"
      ]
    },
    {
      "cell_type": "code",
      "execution_count": null,
      "metadata": {
        "id": "OeFmxlwiexem"
      },
      "outputs": [],
      "source": [
        "# Carregando o tokenizador do modelo base\n",
        "tokenizador = AutoTokenizer.from_pretrained(repositorio_hf, trust_remote_code = True) #padding_side=\"left\"\n",
        "tokenizador.pad_token = tokenizador.eos_token\n",
        "tokenizador.padding_side = \"right\""
      ]
    },
    {
      "cell_type": "code",
      "execution_count": null,
      "metadata": {
        "id": "E8BsKH4HREEp"
      },
      "outputs": [],
      "source": [
        "def tokenize_function(info):\n",
        "    return tokenizador(info[\"text\"], padding=\"max_length\", truncation=True, max_length=1024)"
      ]
    },
    {
      "cell_type": "code",
      "execution_count": null,
      "metadata": {
        "colab": {
          "base_uri": "https://localhost:8080/",
          "height": 84,
          "referenced_widgets": [
            "89c2fa49665c4067bc6cddb926642a98",
            "a6652811f5bd4f5796dd582680b5abba",
            "42d116e40f8f46bc9c583d1c1d8a8b22",
            "6e0ec7f2dc0b49c1828c1a8eb7bd5cd3",
            "5ea4da0f7a7e49af81596c40bf831058",
            "457370c01d2b47a7bdbeec7be07a9d8d",
            "a6116b7e097748c1857131692e00c288",
            "34fed7f750834b3b83774e42a7f2f33d",
            "102058e0c93344a9b862466151710653",
            "7c542ac2de7c4a7c9b55395c5865fdd4",
            "5668b0b15da942d4b02d6866c06d370d"
          ]
        },
        "id": "bj8foCbdRZoI",
        "outputId": "5965911f-0199-4082-bd7e-7c50ce36bd0c"
      },
      "outputs": [
        {
          "output_type": "display_data",
          "data": {
            "text/plain": [
              "Map:   0%|          | 0/8000 [00:00<?, ? examples/s]"
            ],
            "application/vnd.jupyter.widget-view+json": {
              "version_major": 2,
              "version_minor": 0,
              "model_id": "89c2fa49665c4067bc6cddb926642a98"
            }
          },
          "metadata": {}
        },
        {
          "output_type": "stream",
          "name": "stdout",
          "text": [
            "Original dataset columns: {'train': ['text', '__index_level_0__']}\n",
            "Tokenized dataset columns: {'train': ['text', '__index_level_0__', 'input_ids', 'attention_mask']}\n"
          ]
        }
      ],
      "source": [
        "# Tokenize the dataset\n",
        "tokenized_train_dataset = dataset_treino.map(tokenize_function, batched=True)\n",
        "\n",
        "print(f\"Original dataset columns: {dataset_treino.column_names}\")\n",
        "print(f\"Tokenized dataset columns: {tokenized_train_dataset.column_names}\")"
      ]
    },
    {
      "cell_type": "code",
      "execution_count": null,
      "metadata": {
        "colab": {
          "base_uri": "https://localhost:8080/",
          "height": 84,
          "referenced_widgets": [
            "60d1ced50aac43d48c4d6180edc68c60",
            "f672999f75674495bf934a143fb6cbca",
            "b301dd48e92946508ab8e52f76dc9cf6",
            "b608e755668f4be385971596563588df",
            "b24a8f6b8bb14a3d999587252a5dd3a2",
            "e6cde77158a144e0b59fc73a825f6e62",
            "be99cbf54a20443b9dd6973584f0c519",
            "4a074eb07063465987a9f79a49216efb",
            "9ec2fc1b26654992a858e0f4cbc97ba0",
            "aefe3904c916494fbc816ec1fcc1312e",
            "b607c296c9e543c89c367d3f964ee866"
          ]
        },
        "id": "h9BFRl05SEri",
        "outputId": "2026e8a7-399a-48ed-cd59-160c0f95966b"
      },
      "outputs": [
        {
          "output_type": "display_data",
          "data": {
            "text/plain": [
              "Map:   0%|          | 0/2000 [00:00<?, ? examples/s]"
            ],
            "application/vnd.jupyter.widget-view+json": {
              "version_major": 2,
              "version_minor": 0,
              "model_id": "60d1ced50aac43d48c4d6180edc68c60"
            }
          },
          "metadata": {}
        },
        {
          "output_type": "stream",
          "name": "stdout",
          "text": [
            "Original dataset columns: {'test': ['text', '__index_level_0__']}\n",
            "Tokenized dataset columns: {'test': ['text', '__index_level_0__', 'input_ids', 'attention_mask']}\n"
          ]
        }
      ],
      "source": [
        "# Tokenize the dataset\n",
        "tokenized_test_dataset = dataset_teste.map(tokenize_function, batched=True)\n",
        "\n",
        "print(f\"Original dataset columns: {dataset_teste.column_names}\")\n",
        "print(f\"Tokenized dataset columns: {tokenized_test_dataset.column_names}\")"
      ]
    },
    {
      "cell_type": "markdown",
      "metadata": {
        "id": "evuzh5rN2CH_"
      },
      "source": [
        "## Ajuste-Fino"
      ]
    },
    {
      "cell_type": "code",
      "execution_count": null,
      "metadata": {
        "id": "6e1Zf_IfRjQB"
      },
      "outputs": [],
      "source": [
        "data_collator = DataCollatorForLanguageModeling(\n",
        "    tokenizer=tokenizador,\n",
        "    mlm=False)"
      ]
    },
    {
      "cell_type": "code",
      "execution_count": null,
      "metadata": {
        "id": "2WIYt2_eCuEv"
      },
      "outputs": [],
      "source": [
        "# Carregando a configuração LoRA\n",
        "peft_config = LoraConfig(lora_alpha = lora_alpha,\n",
        "                         lora_dropout = lora_dropout,\n",
        "                         r = lora_r,\n",
        "                         bias = \"none\",\n",
        "                         task_type = \"CAUSAL_LM\")"
      ]
    },
    {
      "cell_type": "code",
      "execution_count": null,
      "metadata": {
        "id": "8DwUyOZpCuIH"
      },
      "outputs": [],
      "source": [
        "# Definindo os parâmetros de treino\n",
        "training_arguments = TrainingArguments(output_dir = output_dir,\n",
        "                                       num_train_epochs = num_train_epochs,\n",
        "                                       per_device_train_batch_size = per_device_train_batch_size,\n",
        "                                       gradient_accumulation_steps = gradient_accumulation_steps,\n",
        "                                       optim = optim,\n",
        "                                       save_steps = save_steps,\n",
        "                                       logging_steps = logging_steps,\n",
        "                                       learning_rate = learning_rate,\n",
        "                                       weight_decay = weight_decay,\n",
        "                                       fp16 = fp16,\n",
        "                                       bf16 = bf16,\n",
        "                                       report_to=None,\n",
        "                                       max_grad_norm = max_grad_norm,\n",
        "                                       max_steps = max_steps,\n",
        "                                       warmup_ratio = warmup_ratio,\n",
        "                                       group_by_length = group_by_length,\n",
        "                                       lr_scheduler_type = lr_scheduler_type)"
      ]
    },
    {
      "cell_type": "code",
      "execution_count": null,
      "metadata": {
        "id": "BCUvC3ZwPtZG"
      },
      "outputs": [],
      "source": [
        "# Prepare the model for fine-tuning\n",
        "modelo = prepare_model_for_kbit_training(modelo)\n",
        "\n",
        "# Enable gradient checkpointing to save memory\n",
        "modelo.gradient_checkpointing_enable()\n",
        "\n",
        "# Apply LoRA to the base model\n",
        "peft_model = get_peft_model(modelo, peft_config)"
      ]
    },
    {
      "cell_type": "code",
      "execution_count": null,
      "metadata": {
        "id": "4wUUxneICz_5"
      },
      "outputs": [],
      "source": [
        "trainer = Trainer(\n",
        "    model=peft_model,\n",
        "    args=training_arguments,\n",
        "    train_dataset=tokenized_train_dataset['train'],\n",
        "    eval_dataset=tokenized_test_dataset['test'],\n",
        "    data_collator=data_collator,\n",
        "    tokenizer=tokenizador,\n",
        ")"
      ]
    },
    {
      "cell_type": "code",
      "execution_count": 163,
      "metadata": {
        "colab": {
          "base_uri": "https://localhost:8080/"
        },
        "id": "1GI0oetv40nl",
        "outputId": "5d0b792c-3626-499d-a71e-3f4b1fc05a7a"
      },
      "outputs": [
        {
          "output_type": "stream",
          "name": "stdout",
          "text": [
            "{'loss': 4.2779, 'grad_norm': 1.4332919120788574, 'learning_rate': 6.633333333333334e-05, 'epoch': 0.05}\n",
            "{'loss': 1.8341, 'grad_norm': 1.5346657037734985, 'learning_rate': 0.000133, 'epoch': 0.1}\n",
            "{'loss': 1.139, 'grad_norm': 2.0102686882019043, 'learning_rate': 0.00019966666666666668, 'epoch': 0.15}\n",
            "{'loss': 0.9945, 'grad_norm': 1.8102952241897583, 'learning_rate': 0.00019994807997915655, 'epoch': 0.2}\n",
            "{'loss': 0.917, 'grad_norm': 2.1648926734924316, 'learning_rate': 0.00019979132953554024, 'epoch': 0.25}\n",
            "{'loss': 0.8491, 'grad_norm': 1.7467865943908691, 'learning_rate': 0.00019952991176752863, 'epoch': 0.3}\n",
            "{'loss': 0.8338, 'grad_norm': 1.1467338800430298, 'learning_rate': 0.00019916410086626084, 'epoch': 0.35}\n",
            "{'loss': 0.8172, 'grad_norm': 1.0085489749908447, 'learning_rate': 0.00019869428051685718, 'epoch': 0.4}\n",
            "{'loss': 0.8118, 'grad_norm': 1.269661784172058, 'learning_rate': 0.0001981209434959862, 'epoch': 0.45}\n",
            "{'loss': 0.7877, 'grad_norm': 1.0456310510635376, 'learning_rate': 0.00019744469115501003, 'epoch': 0.5}\n",
            "{'loss': 0.765, 'grad_norm': 1.4413771629333496, 'learning_rate': 0.00019666623278925002, 'epoch': 0.55}\n",
            "{'loss': 0.7627, 'grad_norm': 1.016520380973816, 'learning_rate': 0.00019578638489403373, 'epoch': 0.6}\n",
            "{'loss': 0.7549, 'grad_norm': 1.1322016716003418, 'learning_rate': 0.0001948060703083041, 'epoch': 0.65}\n",
            "{'loss': 0.7455, 'grad_norm': 0.859502911567688, 'learning_rate': 0.00019372913969802652, 'epoch': 0.7}\n",
            "{'loss': 0.7376, 'grad_norm': 0.8526154160499573, 'learning_rate': 0.0001925513249393294, 'epoch': 0.75}\n",
            "{'loss': 0.7235, 'grad_norm': 1.035611867904663, 'learning_rate': 0.00019127643662127867, 'epoch': 0.8}\n",
            "{'loss': 0.7214, 'grad_norm': 1.1902377605438232, 'learning_rate': 0.00018990581192566936, 'epoch': 0.85}\n",
            "{'loss': 0.7176, 'grad_norm': 0.8350397348403931, 'learning_rate': 0.00018844088844853615, 'epoch': 0.9}\n",
            "{'loss': 0.7116, 'grad_norm': 1.2006547451019287, 'learning_rate': 0.00018688320269231383, 'epoch': 0.95}\n",
            "{'loss': 0.7061, 'grad_norm': 0.7168803811073303, 'learning_rate': 0.00018523438845425818, 'epoch': 1.0}\n",
            "{'loss': 0.6945, 'grad_norm': 0.9571947455406189, 'learning_rate': 0.00018349617511281848, 'epoch': 1.05}\n",
            "{'loss': 0.693, 'grad_norm': 0.6205208897590637, 'learning_rate': 0.0001816703858137583, 'epoch': 1.1}\n",
            "{'loss': 0.6938, 'grad_norm': 0.6122140288352966, 'learning_rate': 0.00017975893555792708, 'epoch': 1.15}\n",
            "{'loss': 0.6888, 'grad_norm': 0.7281579971313477, 'learning_rate': 0.0001777689195480087, 'epoch': 1.2}\n",
            "{'loss': 0.6893, 'grad_norm': 1.1380579471588135, 'learning_rate': 0.00017569774197972725, 'epoch': 1.25}\n",
            "{'loss': 0.6777, 'grad_norm': 0.7282493710517883, 'learning_rate': 0.0001735420780878187, 'epoch': 1.3}\n",
            "{'loss': 0.6839, 'grad_norm': 0.8191056251525879, 'learning_rate': 0.0001713092787114973, 'epoch': 1.35}\n",
            "{'loss': 0.6712, 'grad_norm': 0.8716685771942139, 'learning_rate': 0.00016900754599624986, 'epoch': 1.4}\n",
            "{'loss': 0.6824, 'grad_norm': 0.8945888876914978, 'learning_rate': 0.00016662775764556605, 'epoch': 1.45}\n",
            "{'loss': 0.6735, 'grad_norm': 0.7678120136260986, 'learning_rate': 0.0001641780859778077, 'epoch': 1.5}\n",
            "{'loss': 0.6665, 'grad_norm': 0.636183500289917, 'learning_rate': 0.0001616611003602766, 'epoch': 1.55}\n",
            "{'loss': 0.6627, 'grad_norm': 0.6725027561187744, 'learning_rate': 0.00015907944076331242, 'epoch': 1.6}\n",
            "{'loss': 0.6691, 'grad_norm': 0.6757738590240479, 'learning_rate': 0.00015643581499132835, 'epoch': 1.65}\n",
            "{'loss': 0.6504, 'grad_norm': 0.9169703125953674, 'learning_rate': 0.0001537329958426982, 'epoch': 1.7}\n",
            "{'loss': 0.6551, 'grad_norm': 0.7711390852928162, 'learning_rate': 0.00015097381820147377, 'epoch': 1.75}\n",
            "{'loss': 0.6591, 'grad_norm': 0.7818533182144165, 'learning_rate': 0.00014816117606398303, 'epoch': 1.8}\n",
            "{'loss': 0.6644, 'grad_norm': 0.7987769842147827, 'learning_rate': 0.00014530523789746394, 'epoch': 1.85}\n",
            "{'loss': 0.6487, 'grad_norm': 0.8804987668991089, 'learning_rate': 0.00014239468496164852, 'epoch': 1.9}\n",
            "{'loss': 0.6523, 'grad_norm': 0.6426491141319275, 'learning_rate': 0.000139439665855634, 'epoch': 1.95}\n",
            "{'loss': 0.6452, 'grad_norm': 0.7927562594413757, 'learning_rate': 0.000136443279986401, 'epoch': 2.0}\n",
            "{'loss': 0.6413, 'grad_norm': 0.7557607293128967, 'learning_rate': 0.00013340867014895232, 'epoch': 2.05}\n",
            "{'loss': 0.651, 'grad_norm': 0.6408571600914001, 'learning_rate': 0.00013033901922995504, 'epoch': 2.1}\n",
            "{'loss': 0.6457, 'grad_norm': 0.6158139705657959, 'learning_rate': 0.00012723754686933198, 'epoch': 2.15}\n",
            "{'loss': 0.6413, 'grad_norm': 0.6354391574859619, 'learning_rate': 0.00012410750608330388, 'epoch': 2.2}\n",
            "{'loss': 0.6426, 'grad_norm': 1.3420584201812744, 'learning_rate': 0.00012095217985242473, 'epoch': 2.25}\n",
            "{'loss': 0.6333, 'grad_norm': 0.5385664105415344, 'learning_rate': 0.00011777487767818847, 'epoch': 2.3}\n",
            "{'loss': 0.6309, 'grad_norm': 0.5511408448219299, 'learning_rate': 0.00011457893211181896, 'epoch': 2.35}\n",
            "{'loss': 0.6353, 'grad_norm': 0.6981556415557861, 'learning_rate': 0.0001113676952588839, 'epoch': 2.4}\n",
            "{'loss': 0.6377, 'grad_norm': 0.7749207019805908, 'learning_rate': 0.00010814453526339903, 'epoch': 2.45}\n",
            "{'loss': 0.6336, 'grad_norm': 0.6800708174705505, 'learning_rate': 0.00010491283277511013, 'epoch': 2.5}\n",
            "{'loss': 0.6434, 'grad_norm': 0.586578369140625, 'learning_rate': 0.00010169216888368219, 'epoch': 2.55}\n",
            "{'loss': 0.6309, 'grad_norm': 0.6066325306892395, 'learning_rate': 9.845355598308687e-05, 'epoch': 2.6}\n",
            "{'loss': 0.6279, 'grad_norm': 0.5957120060920715, 'learning_rate': 9.521656508871519e-05, 'epoch': 2.65}\n",
            "{'loss': 0.6259, 'grad_norm': 0.8237441182136536, 'learning_rate': 9.198459135701604e-05, 'epoch': 2.7}\n",
            "{'loss': 0.628, 'grad_norm': 0.6370638608932495, 'learning_rate': 8.876102468212735e-05, 'epoch': 2.75}\n",
            "{'loss': 0.6249, 'grad_norm': 0.6183894276618958, 'learning_rate': 8.55492461403454e-05, 'epoch': 2.8}\n",
            "{'loss': 0.6191, 'grad_norm': 0.5153163075447083, 'learning_rate': 8.235262444384278e-05, 'epoch': 2.85}\n",
            "{'loss': 0.6249, 'grad_norm': 0.6556278467178345, 'learning_rate': 7.91745124073543e-05, 'epoch': 2.9}\n",
            "{'loss': 0.6233, 'grad_norm': 0.7538406252861023, 'learning_rate': 7.601824343153745e-05, 'epoch': 2.95}\n",
            "{'loss': 0.6227, 'grad_norm': 0.5492149591445923, 'learning_rate': 7.288712800669549e-05, 'epoch': 3.0}\n",
            "{'loss': 0.6163, 'grad_norm': 0.6692953705787659, 'learning_rate': 6.978445024053007e-05, 'epoch': 3.05}\n",
            "{'loss': 0.6186, 'grad_norm': 0.7349271774291992, 'learning_rate': 6.672109968076465e-05, 'epoch': 3.1}\n",
            "{'loss': 0.6188, 'grad_norm': 0.7252025008201599, 'learning_rate': 6.368493556407933e-05, 'epoch': 3.15}\n",
            "{'loss': 0.6177, 'grad_norm': 0.6372543573379517, 'learning_rate': 6.0686860935202694e-05, 'epoch': 3.2}\n",
            "{'loss': 0.6279, 'grad_norm': 0.8584161400794983, 'learning_rate': 5.773735846398471e-05, 'epoch': 3.25}\n",
            "{'loss': 0.62, 'grad_norm': 0.8113096952438354, 'learning_rate': 5.482473859328332e-05, 'epoch': 3.3}\n",
            "{'loss': 0.6194, 'grad_norm': 0.6978298425674438, 'learning_rate': 5.195950133349925e-05, 'epoch': 3.35}\n",
            "{'loss': 0.6176, 'grad_norm': 0.5437568426132202, 'learning_rate': 4.9144651922854434e-05, 'epoch': 3.4}\n",
            "{'loss': 0.6162, 'grad_norm': 0.6855219006538391, 'learning_rate': 4.638314274967509e-05, 'epoch': 3.45}\n",
            "{'loss': 0.6103, 'grad_norm': 0.6047046780586243, 'learning_rate': 4.3677870255744334e-05, 'epoch': 3.5}\n",
            "{'loss': 0.6172, 'grad_norm': 0.7970167398452759, 'learning_rate': 4.103167189833444e-05, 'epoch': 3.55}\n",
            "{'loss': 0.6177, 'grad_norm': 0.7448265552520752, 'learning_rate': 3.844732317410598e-05, 'epoch': 3.6}\n",
            "{'loss': 0.6147, 'grad_norm': 0.6655263900756836, 'learning_rate': 3.592753470799538e-05, 'epoch': 3.65}\n",
            "{'loss': 0.6194, 'grad_norm': 0.8305415511131287, 'learning_rate': 3.347494941014341e-05, 'epoch': 3.7}\n",
            "{'loss': 0.6219, 'grad_norm': 10.474786758422852, 'learning_rate': 3.109213970384739e-05, 'epoch': 3.75}\n",
            "{'loss': 0.6108, 'grad_norm': 0.7270918488502502, 'learning_rate': 2.8781604827444707e-05, 'epoch': 3.8}\n",
            "{'loss': 0.6097, 'grad_norm': 1.7212499380111694, 'learning_rate': 2.654576821295648e-05, 'epoch': 3.85}\n",
            "{'loss': 0.607, 'grad_norm': 0.6506906151771545, 'learning_rate': 2.4392273967051983e-05, 'epoch': 3.9}\n",
            "{'loss': 0.6128, 'grad_norm': 0.6208328604698181, 'learning_rate': 2.2317685804770415e-05, 'epoch': 3.95}\n",
            "{'loss': 0.6076, 'grad_norm': 1.3133519887924194, 'learning_rate': 2.0319276144357967e-05, 'epoch': 4.0}\n",
            "{'loss': 0.6065, 'grad_norm': 0.5814033150672913, 'learning_rate': 1.840444056007692e-05, 'epoch': 4.05}\n",
            "{'loss': 0.6119, 'grad_norm': 0.7182703018188477, 'learning_rate': 1.6579652260357804e-05, 'epoch': 4.1}\n",
            "{'loss': 0.6108, 'grad_norm': 0.511382520198822, 'learning_rate': 1.483767918918112e-05, 'epoch': 4.15}\n",
            "{'loss': 0.6121, 'grad_norm': 0.6464796662330627, 'learning_rate': 1.3185029632382406e-05, 'epoch': 4.2}\n",
            "{'loss': 0.6117, 'grad_norm': 0.8436012864112854, 'learning_rate': 1.1623436991130654e-05, 'epoch': 4.25}\n",
            "{'loss': 0.6082, 'grad_norm': 0.7284899353981018, 'learning_rate': 1.0154539160464616e-05, 'epoch': 4.3}\n",
            "{'loss': 0.6063, 'grad_norm': 0.7346712946891785, 'learning_rate': 8.77987681136705e-06, 'epoch': 4.35}\n",
            "{'loss': 0.6094, 'grad_norm': 0.6931624412536621, 'learning_rate': 7.50089177481359e-06, 'epoch': 4.4}\n",
            "{'loss': 0.6028, 'grad_norm': 0.6194067597389221, 'learning_rate': 6.318925529491249e-06, 'epoch': 4.45}\n",
            "{'loss': 0.6149, 'grad_norm': 0.7383129000663757, 'learning_rate': 5.235217794772429e-06, 'epoch': 4.5}\n",
            "{'loss': 0.6173, 'grad_norm': 0.5798607468605042, 'learning_rate': 4.250905230420521e-06, 'epoch': 4.55}\n",
            "{'loss': 0.6094, 'grad_norm': 0.6464511156082153, 'learning_rate': 3.367020244390806e-06, 'epoch': 4.6}\n",
            "{'loss': 0.6023, 'grad_norm': 0.5957978963851929, 'learning_rate': 2.584489909977028e-06, 'epoch': 4.65}\n",
            "{'loss': 0.6135, 'grad_norm': 0.7269913554191589, 'learning_rate': 1.904134993439588e-06, 'epoch': 4.7}\n",
            "{'loss': 0.6051, 'grad_norm': 0.6119468808174133, 'learning_rate': 1.3266690931350024e-06, 'epoch': 4.75}\n",
            "{'loss': 0.607, 'grad_norm': 0.5428857803344727, 'learning_rate': 8.526978910498362e-07, 'epoch': 4.8}\n",
            "{'loss': 0.6042, 'grad_norm': 0.8192012906074524, 'learning_rate': 4.835134562265587e-07, 'epoch': 4.85}\n",
            "{'loss': 0.611, 'grad_norm': 0.6814371347427368, 'learning_rate': 2.1765262577956303e-07, 'epoch': 4.9}\n",
            "{'loss': 0.6095, 'grad_norm': 0.5847044587135315, 'learning_rate': 5.644969868101591e-08, 'epoch': 4.95}\n",
            "{'loss': 0.6162, 'grad_norm': 0.5798876285552979, 'learning_rate': 7.375454077473975e-11, 'epoch': 5.0}\n",
            "{'train_runtime': 6779.4189, 'train_samples_per_second': 5.9, 'train_steps_per_second': 5.9, 'train_loss': 0.7120449123382568, 'epoch': 5.0}\n",
            "CPU times: user 1h 49min 58s, sys: 1min 5s, total: 1h 51min 4s\n",
            "Wall time: 1h 53min 6s\n"
          ]
        },
        {
          "output_type": "execute_result",
          "data": {
            "text/plain": [
              "TrainOutput(global_step=40000, training_loss=0.7120449123382568, metrics={'train_runtime': 6779.4189, 'train_samples_per_second': 5.9, 'train_steps_per_second': 5.9, 'train_loss': 0.7120449123382568, 'epoch': 5.0})"
            ]
          },
          "metadata": {},
          "execution_count": 163
        }
      ],
      "source": [
        "%%time\n",
        "#wandb.init(project=\"tabular\", name=\"fhfmendes\")\n",
        "modelo.config.use_cache = False  # silence the warnings. Please re-enable for inference!\n",
        "trainer.train()"
      ]
    },
    {
      "cell_type": "code",
      "execution_count": 164,
      "metadata": {
        "colab": {
          "base_uri": "https://localhost:8080/"
        },
        "id": "2SRFLQH1souU",
        "outputId": "a1ce63aa-48b9-4526-d6aa-0192c66a7ff6"
      },
      "outputs": [
        {
          "output_type": "stream",
          "name": "stdout",
          "text": [
            "{'eval_loss': 0.5783839225769043, 'eval_runtime': 96.1794, 'eval_samples_per_second': 20.794, 'eval_steps_per_second': 2.599, 'epoch': 5.0}\n"
          ]
        },
        {
          "output_type": "execute_result",
          "data": {
            "text/plain": [
              "{'eval_loss': 0.5783839225769043,\n",
              " 'eval_runtime': 96.1794,\n",
              " 'eval_samples_per_second': 20.794,\n",
              " 'eval_steps_per_second': 2.599,\n",
              " 'epoch': 5.0}"
            ]
          },
          "metadata": {},
          "execution_count": 164
        }
      ],
      "source": [
        "trainer.evaluate()"
      ]
    },
    {
      "cell_type": "code",
      "execution_count": 263,
      "metadata": {
        "collapsed": true,
        "id": "mxGQkYG0O7_b",
        "colab": {
          "base_uri": "https://localhost:8080/"
        },
        "outputId": "eee708c0-2327-49a6-803f-f67e81eaa8c6"
      },
      "outputs": [
        {
          "output_type": "execute_result",
          "data": {
            "text/plain": [
              "('ajuste_fino_800_5/tokenizer_config.json',\n",
              " 'ajuste_fino_800_5/special_tokens_map.json',\n",
              " 'ajuste_fino_800_5/vocab.json',\n",
              " 'ajuste_fino_800_5/merges.txt',\n",
              " 'ajuste_fino_800_5/added_tokens.json',\n",
              " 'ajuste_fino_800_5/tokenizer.json')"
            ]
          },
          "metadata": {},
          "execution_count": 263
        }
      ],
      "source": [
        "# Salvando o modelo treinado\n",
        "# Salva modelo e tokenizador\n",
        "modelo.save_pretrained(f\"ajuste_fino_{dataset_train.num_rows['train']}_{num_train_epochs}\")\n",
        "tokenizador.save_pretrained(f\"ajuste_fino_{dataset_train.num_rows['train']}_{num_train_epochs}\")"
      ]
    },
    {
      "cell_type": "code",
      "source": [
        "# Carrega o modelo treinado\n",
        "# Cria o pipeline\n",
        "pipe = pipeline(task = \"text-generation\",\n",
        "                model = \"ajuste_fino_800_5\",\n",
        "                tokenizer = tokenizador,\n",
        "                max_length = 200)"
      ],
      "metadata": {
        "id": "uQovdB1PlyL6"
      },
      "execution_count": 265,
      "outputs": []
    },
    {
      "cell_type": "markdown",
      "metadata": {
        "id": "Z0SxL0WE2w3t"
      },
      "source": [
        "# Pipeline"
      ]
    },
    {
      "cell_type": "code",
      "source": [
        "import random\n",
        "\n",
        "def escolhe_coluna(txt, feat, quantidade = 1):\n",
        "  flag = True\n",
        "\n",
        "  if (quantidade <= 0) or (quantidade > len(feature)):\n",
        "      quantidade = 1\n",
        "\n",
        "  quant_linha = txt.num_rows\n",
        "  linha = random.randint(0, quant_linha)\n",
        "  txt = txt['text'][linha]\n",
        "\n",
        "  while flag:\n",
        "    palavra = ''\n",
        "    conta = 1\n",
        "    while conta <= quantidade:\n",
        "      c = random.choice(feat)\n",
        "      x = txt.find(c)\n",
        "      if x == -1:\n",
        "        print(\"Faltou\")\n",
        "        flag = True\n",
        "      else:\n",
        "        flag = False\n",
        "        t = txt[x:]\n",
        "        x = t.find('|')\n",
        "        t = t[:x]\n",
        "        x = txt.find('->')\n",
        "        if x == -1:\n",
        "          print(\"Faltou -> \")\n",
        "          flag = True\n",
        "        else:\n",
        "          flag = False\n",
        "          palavra += '|' + t\n",
        "          #feat.remove(c)\n",
        "          conta += 1\n",
        "  #print(palavra + '|')\n",
        "  return palavra + '|'"
      ],
      "metadata": {
        "id": "xqQYy5eHkH67"
      },
      "execution_count": 172,
      "outputs": []
    },
    {
      "cell_type": "code",
      "execution_count": 283,
      "metadata": {
        "id": "lrsm-G46iBSc"
      },
      "outputs": [],
      "source": [
        "def text_to_tabular(txt, feature):\n",
        "  #x = txt.find(\"####<s>\")\n",
        "  #t = txt[:x+7]\n",
        "  no_find = []\n",
        "  palavra = ''\n",
        "  flag = True\n",
        "  for c in feature:\n",
        "    x = txt.find(c)\n",
        "    if x == -1:\n",
        "      no_find.append(c)\n",
        "      flag = False\n",
        "      continue\n",
        "    else:\n",
        "      t = txt[x:]\n",
        "      x = t.find(\"|\")\n",
        "      t = t[:x]\n",
        "      x = t.find(\"->\")\n",
        "      if x == -1:\n",
        "        no_find.append(c)\n",
        "        flag = False\n",
        "        continue\n",
        "      else:\n",
        "        palavra += \"|\" + t\n",
        "  palavra += \"|\"\n",
        "  if len(no_find) > 0:\n",
        "    print(f'Faltou:{no_find}')\n",
        "  # Executa o pipeline e extrai o resultado\n",
        "    palavra = embaralha_prompt(palavra, feature)\n",
        "    Resultado = pipe(f\"<s>#### {palavra}\") #####<s>\") ####\n",
        "    txt = resultado[0]['generated_text']\n",
        "    no_find_2 = []\n",
        "    for c in no_find:\n",
        "      x = txt.find(c)\n",
        "      if x == -1:\n",
        "        no_find_2.append(c)\n",
        "        flag = False\n",
        "      else:\n",
        "        t = txt[x:]\n",
        "        x = t.find(\"|\")\n",
        "        t = t[:x]\n",
        "        x = t.find(\"->\")\n",
        "        if x == -1:\n",
        "          no_find_2.append(c)\n",
        "          flag = False\n",
        "        else:\n",
        "          palavra += \"|\" + t\n",
        "          #print(t)\n",
        "      #palavra += \"|\"\n",
        "      #print(no_find_2)\n",
        "  return palavra, flag\n",
        "#text_to_tabular(resultado[0]['generated_text'], feature)"
      ]
    },
    {
      "cell_type": "code",
      "execution_count": 270,
      "metadata": {
        "id": "GJiY9sWwfApy"
      },
      "outputs": [],
      "source": [
        "# Pipeline com o Modelo Ajustado\n",
        "pipe = pipeline(task = \"text-generation\",\n",
        "                model = modelo,\n",
        "                tokenizer = tokenizador,\n",
        "                max_length =200)"
      ]
    },
    {
      "cell_type": "code",
      "execution_count": 269,
      "metadata": {
        "colab": {
          "base_uri": "https://localhost:8080/"
        },
        "id": "qkpzWvgmqIiE",
        "outputId": "ef6b4406-9870-49cd-9638-2cabe3950807"
      },
      "outputs": [
        {
          "output_type": "stream",
          "name": "stdout",
          "text": [
            "[{'generated_text': '<s>#### |marital-status -> Married-civ-spouse| ####<s>#### race -> White| fnlwgt -> 97313| capital-gain -> 0| gender -> Male| productivity -> 50| education -> HS-grad| age -> 47| occupation -> Adm-clerical| educational-num -> 9| native-country -> United-States| workclass -> State-gov| capital-loss -> 0| relationship -> Husband| income -> >50K|  #####<s>####<s>####<s>####<s>####<s>####<s>####<s>####|  #####<s>####|  #####<s>####|  #####<s>####@@@@|  #####<s>####|  #####<s>####|  #####<s>####|  #####<s>####|  #####<s> #####<s> #####49'}]\n",
            "Faltou:['hours-per-week']\n",
            "['hours-per-week']\n",
            "('|age -> 47|workclass -> State-gov|fnlwgt -> 97313|education -> HS-grad|educational-num -> 9|marital-status -> Married-civ-spouse|occupation -> Adm-clerical|relationship -> Husband|race -> White|gender -> Male|capital-gain -> 0|capital-loss -> 0|native-country -> United-States|income -> >50K|', False)\n"
          ]
        }
      ],
      "source": [
        "# Uma Coluna\n",
        "prompt = '|marital-status -> Married-civ-spouse|'\n",
        "# Executa o pipeline e extrai o resultado\n",
        "resultado = pipe(f\"<s>#### {prompt} ####<s>\")\n",
        "print(resultado)\n",
        "R1 = text_to_tabular(resultado[0]['generated_text'], feature)\n",
        "print(R1)"
      ]
    },
    {
      "cell_type": "code",
      "source": [
        "# Duas colunas\n",
        "prompt = '|marital-status -> Married-civ-spouse|occupation -> Adm-clerical|'\n",
        "# Executa o pipeline e extrai o resultado\n",
        "resultado = pipe(f\"<s>#### {prompt} ####<s>\")\n",
        "print(resultado)\n",
        "R2 = text_to_tabular(resultado[0]['generated_text'], feature)\n",
        "print(R2)"
      ],
      "metadata": {
        "colab": {
          "base_uri": "https://localhost:8080/"
        },
        "id": "EV2LqumqVzlx",
        "outputId": "1d4cdd9c-2e39-4f17-c076-816d327a6387"
      },
      "execution_count": 194,
      "outputs": [
        {
          "output_type": "stream",
          "name": "stdout",
          "text": [
            "[{'generated_text': '<s>#### |marital-status -> Married-civ-spouse|occupation -> Adm-clerical| ####<s> <income -> <=50K| educational-num -> 9| hours-per-week -> 40| capital-loss -> 0| relationship -> Husband| race -> White| capital-gain -> 0| income -> <=50K| fnlwgt -> 111883| native-country -> United-States| gender -> Male| education -> HS-grad|  #####<s>####<s>####<s>####<s>####<s>####@@<s>####|  #####<s>####|  #####<s>####|  #####<s>####|  #####<s>####|  #####<s>####@@@@@@|  #####<s>####|  #####<s>####|  #####<s>####|  #####<s>####'}]\n",
            "Faltou:['age', 'workclass']\n",
            "<s>#### |marital-status -> Married-civ-spouse|occupation -> Adm-clerical| ####<s> <income -> <=50K| educational-num -> 9| hours-per-week -> 40| capital-loss -> 0| relationship -> Husband| race -> White| capital-gain -> 0| income -> <=50K| fnlwgt -> 111883| native-country -> United-States| gender -> Male| education -> HS-grad|  #####<s>####<s>####<s>####<s>####<s>####@@<s>####|  #####<s>####|  #####<s>####|  #####<s>####|  #####<s>####|  #####<s>####@@@@@@|  #####<s>####|  #####<s>####|  #####<s>####|  #####<s>####\n",
            "['age']\n",
            "['age', 'workclass']\n",
            "('|fnlwgt -> 111883|educational-num -> 9|educational-num -> 9|marital-status -> Married-civ-spouse|occupation -> Adm-clerical|relationship -> Husband|race -> White|gender -> Male|capital-gain -> 0|capital-loss -> 0|hours-per-week -> 40|native-country -> United-States|income -> <=50K|', False)\n"
          ]
        }
      ]
    },
    {
      "cell_type": "code",
      "source": [
        "# Três colunas\n",
        "prompt = '|Age -> 22| SSN -> 615-06-7821| Occupation -> Developer|'\n",
        "# Executa o pipeline e extrai o resultado\n",
        "resultado = pipe(f\"<s>#### {prompt} ####<s>\")\n",
        "print(resultado)\n",
        "R3 = text_to_tabular(resultado[0]['generated_text'], feature)\n",
        "print(R3)"
      ],
      "metadata": {
        "colab": {
          "base_uri": "https://localhost:8080/"
        },
        "id": "p28MHc8YZU0P",
        "outputId": "21855133-dfe8-44d8-9089-163ccbfe2173"
      },
      "execution_count": null,
      "outputs": [
        {
          "output_type": "stream",
          "name": "stdout",
          "text": [
            "[{'generated_text': '<s>#### |Age -> 22| SSN -> 615-06-7821| Occupation -> Developer| ####<s>##### Annual_Income_Number -> 1358| Monthly_Inhand_Salary -> 3058.8| Num_Bank_Accounts -> 3| Num_Credit_Card -> 7| Interest_Rate -> 5| Num_of_Loan -> 3| Type_of_Loan -> None| Delay_from_due_date -> 17| Num_of_Delayed_Payment -> 13| Changed_Credit_Limit -> 4.54| Num_Credit_Inquiries -> 2.0| Credit_Mix -> Good| Outstanding_Debt -> 1138.47| Credit_Utilization_Ratio -> 25.59139718152417| Credit_History_Age -> None| Payment_of_Min_Amount -> NM| Total_EMI_per_month -> 43.9762547378097| Amount_invested_monthly -> 46.79792940302425| Payment_Behaviour -> High_spent_Medium_value_payments| Monthly_Balance -> 1082.29169580382058| Credit_Score -> Standard| ####<s>δ<s>$:/100%/| Monthly_Balance -> 818.65474929331712| Credit_Score -> Standard| ####<s>####<To><s>#<s>#<s>$:/8| Monthly_Energy_value_47.71639479975| Credit_Score -> Poor| #### ####<s>#987&AAA@839~8| #### ####<s>#<s>#534951853994978| Credit_Score -> Standard| #### #'}]\n",
            "Faltou_1: Name\n",
            "Faltou_2: Name\n",
            "|Monthly_Inhand_Salary -> 3058.8|Age -> 22|SSN -> 615-06-7821|Occupation -> Developer|Annual_Income_Number -> 1358|Monthly_Inhand_Salary -> 3058.8|Num_Bank_Accounts -> 3|Num_Credit_Card -> 7|Interest_Rate -> 5|Num_of_Loan -> 3|Type_of_Loan -> None|Delay_from_due_date -> 17|Num_of_Delayed_Payment -> 13|Changed_Credit_Limit -> 4.54|Num_Credit_Inquiries -> 2.0|Credit_Mix -> Good|Outstanding_Debt -> 1138.47|Credit_Utilization_Ratio -> 25.59139718152417|Credit_History_Age -> None|Payment_of_Min_Amount -> NM|Total_EMI_per_month -> 43.9762547378097|Amount_invested_monthly -> 46.79792940302425|Payment_Behaviour -> High_spent_Medium_value_payments|Monthly_Balance -> 1082.29169580382058|Credit_Score -> Standard||\n"
          ]
        }
      ]
    },
    {
      "cell_type": "code",
      "source": [
        "# Quatro colunas\n",
        "prompt = '|Age -> 22| SSN -> 615-06-7821| Occupation -> Developer| Annual_Income -> 35547.71'\n",
        "# Executa o pipeline e extrai o resultado\n",
        "resultado = pipe(f\"<s>[INST] {prompt}\") # [/INST]<s>\")\n",
        "print(resultado)\n",
        "R4 = text_to_tabular(resultado[0]['generated_text'], feature)\n",
        "print(R4)"
      ],
      "metadata": {
        "colab": {
          "base_uri": "https://localhost:8080/"
        },
        "id": "uRQsC19ieML9",
        "outputId": "fa379fd7-2796-4c7f-a3c8-98ac3ef5a4b4"
      },
      "execution_count": null,
      "outputs": [
        {
          "output_type": "stream",
          "name": "stdout",
          "text": [
            "[{'generated_text': '<s>[INST] |Age -> 22| SSN -> 615-06-7821| Occupation -> Developer| Annual_Income -> 35547.71| Monthly_Inhand_Salary -> 066.9553333333333| Num_Bank_Accounts -> 3| Num_Credit_Card -> 3| Interest_Rate -> 6| Num_of_Loan -> 0| Type_of_Loan -> Mortgage Loan, and Auto Loan| Delay_from_due_date -> 8| Num_of_Delayed_Payment -> 13| Changed_Credit_Limit -> 7.6| Num_Credit_Inquiries -> 4.0| Credit_Mix -> Standard| Outstanding_Debt -> 861.29| Credit_Utilization_Ratio -> 26.7914772260895| Credit_History_Age -> 11 Years and 5 Months| Payment_of_Min_Amount -> No| Total_EMI_per_month -> 26.761935951818| Amount_invested_monthly -> 51.8447835552317| Payment_Behaviour -> High_spent_Small_value_payments| Monthly_Balance -> 898.281512691595| Credit_Score -> Poor| ####<s> About_Boss -> 34.34666989125544| Payment_Score -> Standard| ####<s>####<s>#####<s>0|####\\\\�8| ####<s>#<s>#&8| ####&8>##8| ####<s>#< ####<!>#8| ####<s>#####8| ####<!>#886| #####&8#9| ####9>##737| #####9'}]\n",
            "Faltou_1: Name\n",
            "Faltou_2: Name\n",
            "|Monthly_Inhand_Salary -> 066.9553333333333|Age -> 22|SSN -> 615-06-7821|Occupation -> Developer|Annual_Income -> 35547.71|Monthly_Inhand_Salary -> 066.9553333333333|Num_Bank_Accounts -> 3|Num_Credit_Card -> 3|Interest_Rate -> 6|Num_of_Loan -> 0|Type_of_Loan -> Mortgage Loan, and Auto Loan|Delay_from_due_date -> 8|Num_of_Delayed_Payment -> 13|Changed_Credit_Limit -> 7.6|Num_Credit_Inquiries -> 4.0|Credit_Mix -> Standard|Outstanding_Debt -> 861.29|Credit_Utilization_Ratio -> 26.7914772260895|Credit_History_Age -> 11 Years and 5 Months|Payment_of_Min_Amount -> No|Total_EMI_per_month -> 26.761935951818|Amount_invested_monthly -> 51.8447835552317|Payment_Behaviour -> High_spent_Small_value_payments|Monthly_Balance -> 898.281512691595|Credit_Score -> Poor||\n"
          ]
        }
      ]
    },
    {
      "cell_type": "code",
      "source": [
        "def embaralha_prompt(txt, feature):\n",
        "  quant = random.randint(1, int(len(feature) / 2))\n",
        "  contador = 1\n",
        "  fea = deepcopy(feature)\n",
        "  while contador <= quant:\n",
        "    flag = True\n",
        "    while flag:\n",
        "      c = random.choice(fea)\n",
        "      x = txt.find(c)\n",
        "      if x == -1:\n",
        "        fea.remove(c)\n",
        "      else:\n",
        "        flag = False\n",
        "    t = txt[x:]\n",
        "    y = t.find('|')\n",
        "    t = t[:(y+1)]\n",
        "    contador += 1\n",
        "    txt = txt.replace(t, '')\n",
        "    if (random.randint(0, 1) == 0):\n",
        "      txt = '|' + t[:-1] + txt\n",
        "    else:\n",
        "      txt = txt + t\n",
        "  print('TXT:', txt)\n",
        "  return txt\n",
        "#embaralha_prompt(prompt, feature)"
      ],
      "metadata": {
        "id": "FY0e9oP31wmr"
      },
      "execution_count": 289,
      "outputs": []
    },
    {
      "cell_type": "code",
      "source": [],
      "metadata": {
        "colab": {
          "base_uri": "https://localhost:8080/"
        },
        "id": "KdaeSSbSKv6K",
        "outputId": "4be5c74b-a89d-43e0-898d-ff32aea54685"
      },
      "execution_count": 288,
      "outputs": [
        {
          "output_type": "execute_result",
          "data": {
            "text/plain": [
              "0"
            ]
          },
          "metadata": {},
          "execution_count": 288
        }
      ]
    },
    {
      "cell_type": "code",
      "source": [
        "# Uma Coluna\n",
        "posicao = True\n",
        "escolhe = True\n",
        "while posicao:\n",
        "  if escolhe:\n",
        "    quant = random.randint(1, 3)\n",
        "    prompt = escolhe_coluna(dataset_teste['test'], feature, quant)\n",
        "    print('Prompt: ', prompt)\n",
        "  # Executa o pipeline e extrai o resultado\n",
        "  resultado = pipe(f\"<s>#### {prompt} ####<s>\")\n",
        "  prompt, escolhe = text_to_tabular(resultado[0]['generated_text'], feature)\n",
        "  posicao = not escolhe\n",
        "  prompt = embaralha_prompt(prompt, feature)\n",
        "  #print('Continua: ',posicao)\n",
        "  print('Resultado: ',prompt)\n",
        "print('FIM')\n"
      ],
      "metadata": {
        "colab": {
          "base_uri": "https://localhost:8080/",
          "height": 1000
        },
        "id": "nFfvhYG1jq5-",
        "outputId": "5288b57a-5b3e-4c73-9b17-7f6f26008c3f"
      },
      "execution_count": 290,
      "outputs": [
        {
          "output_type": "stream",
          "name": "stdout",
          "text": [
            "Prompt:  |relationship -> Unmarried|age -> 38|race -> White|\n",
            "Faltou:['workclass']\n",
            "TXT: |relationship -> Unmarried|income -> <=50K|age -> 38|fnlwgt -> 245741|education -> Bachelors|educational-num -> 13|marital-status -> Divorced|occupation -> Exec-managerial|race -> White|gender -> Female|capital-gain -> 0|capital-loss -> 0|hours-per-week -> 60|native-country -> United-States|\n",
            "TXT: |income -> <=50K|age -> 38|fnlwgt -> 245741|education -> Bachelors|educational-num -> 13|marital-status -> Divorced|occupation -> Exec-managerial|race -> White|capital-gain -> 0|hours-per-week -> 60|gender -> Female|native-country -> United-States|capital-loss -> 0|relationship -> Unmarried|\n",
            "Resultado:  |income -> <=50K|age -> 38|fnlwgt -> 245741|education -> Bachelors|educational-num -> 13|marital-status -> Divorced|occupation -> Exec-managerial|race -> White|capital-gain -> 0|hours-per-week -> 60|gender -> Female|native-country -> United-States|capital-loss -> 0|relationship -> Unmarried|\n",
            "Faltou:['workclass']\n",
            "TXT: |capital-gain -> 0|age -> 38|fnlwgt -> 245741|marital-status -> Divorced|relationship -> Unmarried|race -> White|gender -> Female|capital-loss -> 0|native-country -> United-States|income -> <=50K|education -> Bachelors|hours-per-week -> 60|educational-num -> 13|occupation -> Exec-managerial|\n",
            "TXT: |hours-per-week -> 60|education -> Bachelors|capital-gain -> 0|age -> 38|marital-status -> Divorced|relationship -> Unmarried|race -> White|gender -> Female|capital-loss -> 0|native-country -> United-States|income -> <=50K|occupation -> Exec-managerial|educational-num -> 13|fnlwgt -> 245741|\n",
            "Resultado:  |hours-per-week -> 60|education -> Bachelors|capital-gain -> 0|age -> 38|marital-status -> Divorced|relationship -> Unmarried|race -> White|gender -> Female|capital-loss -> 0|native-country -> United-States|income -> <=50K|occupation -> Exec-managerial|educational-num -> 13|fnlwgt -> 245741|\n",
            "Faltou:['workclass']\n",
            "TXT: |occupation -> Exec-managerial|age -> 38|fnlwgt -> 245741|educational-num -> 13|relationship -> Unmarried|race -> White|gender -> Female|capital-gain -> 0|capital-loss -> 0|hours-per-week -> 60|native-country -> United-States|income -> <=50K|marital-status -> Divorced|education -> Bachelors|\n",
            "TXT: |relationship -> Unmarried|race -> White|occupation -> Exec-managerial|age -> 38|fnlwgt -> 245741|educational-num -> 13|gender -> Female|capital-gain -> 0|capital-loss -> 0|education -> Bachelors|income -> <=50K|marital-status -> Divorced|hours-per-week -> 60|native-country -> United-States|\n",
            "Resultado:  |relationship -> Unmarried|race -> White|occupation -> Exec-managerial|age -> 38|fnlwgt -> 245741|educational-num -> 13|gender -> Female|capital-gain -> 0|capital-loss -> 0|education -> Bachelors|income -> <=50K|marital-status -> Divorced|hours-per-week -> 60|native-country -> United-States|\n",
            "Faltou:['age', 'workclass']\n",
            "TXT: |fnlwgt -> 245741|educational-num -> 13|educational-num -> 13|relationship -> Unmarried|race -> White|gender -> Female|capital-gain -> 0|capital-loss -> 0|hours-per-week -> 60|native-country -> United-States|income -> <=50K|occupation -> Exec-managerial|marital-status -> Divorced|\n",
            "TXT: |gender -> Female|educational-num -> 13|educational-num -> 13|relationship -> Unmarried|race -> White|capital-gain -> 0|hours-per-week -> 60|native-country -> United-States|occupation -> Exec-managerial|marital-status -> Divorced|fnlwgt -> 245741|income -> <=50K|capital-loss -> 0|\n",
            "Resultado:  |gender -> Female|educational-num -> 13|educational-num -> 13|relationship -> Unmarried|race -> White|capital-gain -> 0|hours-per-week -> 60|native-country -> United-States|occupation -> Exec-managerial|marital-status -> Divorced|fnlwgt -> 245741|income -> <=50K|capital-loss -> 0|\n",
            "Faltou:['age', 'workclass']\n",
            "TXT: |fnlwgt -> 245741|educational-num -> 13|educational-num -> 13|marital-status -> Divorced|occupation -> Exec-managerial|relationship -> Unmarried|race -> White|gender -> Female|capital-gain -> 0|capital-loss -> 0|hours-per-week -> 60|income -> <=50K|native-country -> United-States|\n",
            "TXT: |fnlwgt -> 245741|relationship -> Unmarried|race -> White|gender -> Female|capital-gain -> 0|capital-loss -> 0|hours-per-week -> 60|income -> <=50K|native-country -> United-States|occupation -> Exec-managerial|educational-num -> 13|marital-status -> Divorced|\n",
            "Resultado:  |fnlwgt -> 245741|relationship -> Unmarried|race -> White|gender -> Female|capital-gain -> 0|capital-loss -> 0|hours-per-week -> 60|income -> <=50K|native-country -> United-States|occupation -> Exec-managerial|educational-num -> 13|marital-status -> Divorced|\n",
            "Faltou:['age', 'workclass']\n",
            "TXT: |capital-gain -> 0|marital-status -> Divorced|capital-loss -> 0|relationship -> Unmarried|educational-num -> 13|fnlwgt -> 245741|occupation -> Exec-managerial|race -> White|gender -> Female|hours-per-week -> 60|native-country -> United-States|income -> <=50K|\n",
            "TXT: |relationship -> Unmarried|educational-num -> 13|gender -> Female|native-country -> United-States|hours-per-week -> 60|capital-gain -> 0|marital-status -> Divorced|capital-loss -> 0|fnlwgt -> 245741|occupation -> Exec-managerial|race -> White|income -> <=50K|\n",
            "Resultado:  |relationship -> Unmarried|educational-num -> 13|gender -> Female|native-country -> United-States|hours-per-week -> 60|capital-gain -> 0|marital-status -> Divorced|capital-loss -> 0|fnlwgt -> 245741|occupation -> Exec-managerial|race -> White|income -> <=50K|\n",
            "Faltou:['age', 'workclass']\n",
            "TXT: |hours-per-week -> 60|fnlwgt -> 245741|marital-status -> Divorced|occupation -> Exec-managerial|relationship -> Unmarried|race -> White|gender -> Female|capital-gain -> 0|native-country -> United-States|income -> <=50K|educational-num -> 13|capital-loss -> 0|\n",
            "TXT: |relationship -> Unmarried|capital-gain -> 0|hours-per-week -> 60|fnlwgt -> 245741|occupation -> Exec-managerial|race -> White|gender -> Female|native-country -> United-States|income -> <=50K|educational-num -> 13|capital-loss -> 0|marital-status -> Divorced|\n",
            "Resultado:  |relationship -> Unmarried|capital-gain -> 0|hours-per-week -> 60|fnlwgt -> 245741|occupation -> Exec-managerial|race -> White|gender -> Female|native-country -> United-States|income -> <=50K|educational-num -> 13|capital-loss -> 0|marital-status -> Divorced|\n",
            "Faltou:['age', 'workclass']\n",
            "TXT: |gender -> Female|fnlwgt -> 245741|educational-num -> 13|educational-num -> 13|marital-status -> Divorced|occupation -> Exec-managerial|relationship -> Unmarried|race -> White|capital-gain -> 0|capital-loss -> 0|hours-per-week -> 60|native-country -> United-States|income -> <=50K|\n",
            "TXT: |gender -> Female|fnlwgt -> 245741|educational-num -> 13|educational-num -> 13|marital-status -> Divorced|occupation -> Exec-managerial|relationship -> Unmarried|race -> White|capital-gain -> 0|hours-per-week -> 60|native-country -> United-States|income -> <=50K|capital-loss -> 0|\n",
            "Resultado:  |gender -> Female|fnlwgt -> 245741|educational-num -> 13|educational-num -> 13|marital-status -> Divorced|occupation -> Exec-managerial|relationship -> Unmarried|race -> White|capital-gain -> 0|hours-per-week -> 60|native-country -> United-States|income -> <=50K|capital-loss -> 0|\n",
            "Faltou:['age', 'workclass']\n",
            "TXT: |hours-per-week -> 60|fnlwgt -> 245741|educational-num -> 13|educational-num -> 13|occupation -> Exec-manrelationship -> Unmarried|race -> White|capital-loss -> 0|native-country -> United-States|marital-status -> Divorced|capital-gain -> 0|gender -> Female|agerial|income -> <=50K|\n",
            "TXT: |hours-per-week -> 60|fnlwgt -> 245741|educational-num -> 13|educational-num -> 13|race -> White|capital-loss -> 0|native-country -> United-States|marital-status -> Divorced|capital-gain -> 0|gender -> Female|agerial|income -> <=50K|occupation -> Exec-manrelationship -> Unmarried|\n",
            "Resultado:  |hours-per-week -> 60|fnlwgt -> 245741|educational-num -> 13|educational-num -> 13|race -> White|capital-loss -> 0|native-country -> United-States|marital-status -> Divorced|capital-gain -> 0|gender -> Female|agerial|income -> <=50K|occupation -> Exec-manrelationship -> Unmarried|\n",
            "Faltou:['age', 'workclass']\n",
            "TXT: |occupation -> Exec-manfnlwgt -> 245741|educational-num -> 13|educational-num -> 13|marital-status -> Divorced|race -> White|capital-gain -> 0|hours-per-week -> 60|native-country -> United-States|income -> <=50K|capital-loss -> 0|gender -> Female|relationship -> Unmarried|\n",
            "TXT: |marital-status -> Divorced|native-country -> United-States|occupation -> Exec-manfnlwgt -> 245741|race -> White|capital-gain -> 0|hours-per-week -> 60|income -> <=50K|relationship -> Unmarried|capital-loss -> 0|educational-num -> 13|gender -> Female|\n",
            "Resultado:  |marital-status -> Divorced|native-country -> United-States|occupation -> Exec-manfnlwgt -> 245741|race -> White|capital-gain -> 0|hours-per-week -> 60|income -> <=50K|relationship -> Unmarried|capital-loss -> 0|educational-num -> 13|gender -> Female|\n",
            "Faltou:['age', 'workclass']\n",
            "TXT: |marital-status -> Divorced|occupation -> Exec-manrelationship -> Unmarried|race -> White|gender -> Female|capital-gain -> 0|capital-loss -> 0|income -> <=50K|native-country -> United-States|fnlwgt -> 245741|educational-num -> 13|hours-per-week -> 60|\n",
            "TXT: |race -> White|marital-status -> Divorced|occupation -> Exec-manrelationship -> Unmarried|gender -> Female|capital-gain -> 0|capital-loss -> 0|income -> <=50K|native-country -> United-States|fnlwgt -> 245741|hours-per-week -> 60|educational-num -> 13|\n",
            "Resultado:  |race -> White|marital-status -> Divorced|occupation -> Exec-manrelationship -> Unmarried|gender -> Female|capital-gain -> 0|capital-loss -> 0|income -> <=50K|native-country -> United-States|fnlwgt -> 245741|hours-per-week -> 60|educational-num -> 13|\n",
            "Faltou:['workclass']\n",
            "TXT: |age -> 49|fnlwgt -> 245741|marital-status -> Divorced|occupation -> Exec-manrelationship -> Unmarried|relationship -> Unmarried|race -> White|gender -> Female|capital-gain -> 0|capital-loss -> 0|hours-per-week -> 60|native-country -> United-States|income -> <=50K|educational-num -> 13|\n",
            "TXT: |relationship -> Unmarried|race -> White|age -> 49|fnlwgt -> 245741|marital-status -> Divorced|occupation -> Exec-mangender -> Female|hours-per-week -> 60|native-country -> United-States|income -> <=50K|educational-num -> 13|capital-loss -> 0|capital-gain -> 0|\n",
            "Resultado:  |relationship -> Unmarried|race -> White|age -> 49|fnlwgt -> 245741|marital-status -> Divorced|occupation -> Exec-mangender -> Female|hours-per-week -> 60|native-country -> United-States|income -> <=50K|educational-num -> 13|capital-loss -> 0|capital-gain -> 0|\n",
            "Faltou:['workclass']\n",
            "TXT: |educational-num -> 13|age -> 49|fnlwgt -> 245741|marital-status -> Divorced|occupation -> Exec-mangender -> Female|relationship -> Unmarried|race -> White|gender -> Female|capital-gain -> 0|capital-loss -> 0|hours-per-week -> 60|native-country -> United-States|income -> <=50K|\n",
            "TXT: |capital-loss -> 0|age -> 49|fnlwgt -> 245741|marital-status -> Divorced|race -> White|gender -> Female|capital-gain -> 0|hours-per-week -> 60|native-country -> United-States|income -> <=50K|educational-num -> 13|relationship -> Unmarried|occupation -> Exec-mangender -> Female|\n",
            "Resultado:  |capital-loss -> 0|age -> 49|fnlwgt -> 245741|marital-status -> Divorced|race -> White|gender -> Female|capital-gain -> 0|hours-per-week -> 60|native-country -> United-States|income -> <=50K|educational-num -> 13|relationship -> Unmarried|occupation -> Exec-mangender -> Female|\n",
            "Faltou:['workclass']\n",
            "TXT: |educational-num -> 13|age -> 49|fnlwgt -> 245741|marital-status -> Divorced|occupation -> Exec-mangender -> Female|relationship -> Unmarried|race -> White|gender -> Female|capital-gain -> 0|hours-per-week -> 60|native-country -> United-States|income -> <=50K|capital-loss -> 0|\n",
            "TXT: |capital-loss -> 0|educational-num -> 13|age -> 49|fnlwgt -> 245741|marital-status -> Divorced|occupation -> Exec-mangender -> Female|relationship -> Unmarried|race -> White|gender -> Female|capital-gain -> 0|hours-per-week -> 60|native-country -> United-States|income -> <=50K|\n",
            "Resultado:  |capital-loss -> 0|educational-num -> 13|age -> 49|fnlwgt -> 245741|marital-status -> Divorced|occupation -> Exec-mangender -> Female|relationship -> Unmarried|race -> White|gender -> Female|capital-gain -> 0|hours-per-week -> 60|native-country -> United-States|income -> <=50K|\n",
            "Faltou:['workclass']\n",
            "TXT: |educational-num -> 13|age -> 49|fnlwgt -> 245741|marital-status -> Divorced|occupation -> Exec-mangender -> Female|relationship -> Unmarried|race -> White|gender -> Female|capital-gain -> 0|capital-loss -> 0|native-country -> United-States|income -> <=50K|hours-per-week -> 60|\n",
            "TXT: |marital-status -> Divorced|income -> <=50K|educational-num -> 13|age -> 49|fnlwgt -> 245741|occupation -> Exec-mangender -> Female|relationship -> Unmarried|race -> White|gender -> Female|capital-gain -> 0|native-country -> United-States|hours-per-week -> 60|capital-loss -> 0|\n",
            "Resultado:  |marital-status -> Divorced|income -> <=50K|educational-num -> 13|age -> 49|fnlwgt -> 245741|occupation -> Exec-mangender -> Female|relationship -> Unmarried|race -> White|gender -> Female|capital-gain -> 0|native-country -> United-States|hours-per-week -> 60|capital-loss -> 0|\n",
            "Faltou:['workclass']\n",
            "TXT: |educational-num -> 13|age -> 49|marital-status -> Divorced|occupation -> Exec-mangender -> Female|relationship -> Unmarried|race -> White|gender -> Female|capital-gain -> 0|capital-loss -> 0|hours-per-week -> 60|native-country -> United-States|income -> <=50K|fnlwgt -> 245741|\n",
            "TXT: |educational-num -> 13|age -> 49|marital-status -> Divorced|occupation -> Exec-mangender -> Female|relationship -> Unmarried|gender -> Female|capital-gain -> 0|capital-loss -> 0|hours-per-week -> 60|native-country -> United-States|income -> <=50K|fnlwgt -> 245741|race -> White|\n",
            "Resultado:  |educational-num -> 13|age -> 49|marital-status -> Divorced|occupation -> Exec-mangender -> Female|relationship -> Unmarried|gender -> Female|capital-gain -> 0|capital-loss -> 0|hours-per-week -> 60|native-country -> United-States|income -> <=50K|fnlwgt -> 245741|race -> White|\n",
            "Faltou:['workclass']\n",
            "TXT: |educational-num -> 13|income -> <=50K|age -> 49|marital-status -> Divorced|occupation -> Exec-mangender -> Female|relationship -> Unmarried|gender -> Female|capital-loss -> 0|hours-per-week -> 60|native-country -> United-States|fnlwgt -> 245741|capital-gain -> 0|race -> White|\n",
            "TXT: |income -> <=50K|educational-num -> 13|age -> 49|marital-status -> Divorced|occupation -> Exec-mangender -> Female|gender -> Female|capital-loss -> 0|hours-per-week -> 60|fnlwgt -> 245741|capital-gain -> 0|race -> White|native-country -> United-States|relationship -> Unmarried|\n",
            "Resultado:  |income -> <=50K|educational-num -> 13|age -> 49|marital-status -> Divorced|occupation -> Exec-mangender -> Female|gender -> Female|capital-loss -> 0|hours-per-week -> 60|fnlwgt -> 245741|capital-gain -> 0|race -> White|native-country -> United-States|relationship -> Unmarried|\n",
            "Faltou:['workclass']\n",
            "TXT: |gender -> Female|age -> 49|fnlwgt -> 245741|educational-num -> 13|educational-num -> 13|marital-status -> Divorced|occupation -> Exec-manrelationship -> Unmarried|race -> White|capital-gain -> 0|capital-loss -> 0|hours-per-week -> 60|native-country -> United-States|income -> <=50K|\n",
            "TXT: |educational-num -> 13|gender -> Female|age -> 49|marital-status -> Divorced|occupation -> Exec-manrelationship -> Unmarried|race -> White|capital-gain -> 0|capital-loss -> 0|hours-per-week -> 60|native-country -> United-States|income -> <=50K|fnlwgt -> 245741|\n",
            "Resultado:  |educational-num -> 13|gender -> Female|age -> 49|marital-status -> Divorced|occupation -> Exec-manrelationship -> Unmarried|race -> White|capital-gain -> 0|capital-loss -> 0|hours-per-week -> 60|native-country -> United-States|income -> <=50K|fnlwgt -> 245741|\n",
            "Faltou:['workclass']\n",
            "TXT: |gender -> Female|age -> 49|fnlwgt -> 245741|marital-status -> Divorced|occupation -> Exec-manrace -> White|capital-gain -> 0|capital-loss -> 0|native-country -> United-States|income -> <=50K|hours-per-week -> 60|relationship -> Unmarried|educational-num -> 13|\n",
            "TXT: |hours-per-week -> 60|gender -> Female|age -> 49|fnlwgt -> 245741|marital-status -> Divorced|occupation -> Exec-manrace -> White|capital-gain -> 0|capital-loss -> 0|native-country -> United-States|income -> <=50K|relationship -> Unmarried|educational-num -> 13|\n",
            "Resultado:  |hours-per-week -> 60|gender -> Female|age -> 49|fnlwgt -> 245741|marital-status -> Divorced|occupation -> Exec-manrace -> White|capital-gain -> 0|capital-loss -> 0|native-country -> United-States|income -> <=50K|relationship -> Unmarried|educational-num -> 13|\n",
            "Faltou:['workclass']\n",
            "TXT: |fnlwgt -> 245741|capital-gain -> 0|age -> 49|marital-status -> Divorced|relationship -> Unmarried|race -> White|gender -> Female|capital-loss -> 0|hours-per-week -> 60|native-country -> United-States|income -> <=50K|educational-num -> 13|occupation -> Exec-manrace -> White|\n",
            "TXT: |capital-loss -> 0|fnlwgt -> 245741|capital-gain -> 0|age -> 49|marital-status -> Divorced|relationship -> Unmarried|race -> White|hours-per-week -> 60|native-country -> United-States|income -> <=50K|occupation -> Exec-manrace -> White|gender -> Female|educational-num -> 13|\n",
            "Resultado:  |capital-loss -> 0|fnlwgt -> 245741|capital-gain -> 0|age -> 49|marital-status -> Divorced|relationship -> Unmarried|race -> White|hours-per-week -> 60|native-country -> United-States|income -> <=50K|occupation -> Exec-manrace -> White|gender -> Female|educational-num -> 13|\n",
            "Faltou:['workclass']\n",
            "TXT: |race -> White|occupation -> Exec-manhours-per-week -> 60|age -> 49|fnlwgt -> 245741|educational-num -> 13|educational-num -> 13|marital-status -> Divorced|relationship -> Unmarried|gender -> Female|capital-gain -> 0|capital-loss -> 0|native-country -> United-States|income -> <=50K|\n",
            "TXT: |race -> White|age -> 49|occupation -> Exec-manhours-per-week -> 60|educational-num -> 13|educational-num -> 13|marital-status -> Divorced|relationship -> Unmarried|gender -> Female|capital-loss -> 0|income -> <=50K|fnlwgt -> 245741|native-country -> United-States|capital-gain -> 0|\n",
            "Resultado:  |race -> White|age -> 49|occupation -> Exec-manhours-per-week -> 60|educational-num -> 13|educational-num -> 13|marital-status -> Divorced|relationship -> Unmarried|gender -> Female|capital-loss -> 0|income -> <=50K|fnlwgt -> 245741|native-country -> United-States|capital-gain -> 0|\n",
            "Faltou:['workclass']\n",
            "TXT: |relationship -> Unmarried|age -> 49|fnlwgt -> 245741|marital-status -> Divorced|occupation -> Exec-manhours-per-week -> 60|race -> White|gender -> Female|capital-gain -> 0|hours-per-week -> 60|native-country -> United-States|income -> <=50K|capital-loss -> 0|educational-num -> 13|\n",
            "TXT: |educational-num -> 13|age -> 49|relationship -> Unmarried|fnlwgt -> 245741|marital-status -> Divorced|occupation -> Exec-manhours-per-week -> 60|race -> White|capital-gain -> 0|hours-per-week -> 60|native-country -> United-States|income -> <=50K|capital-loss -> 0|gender -> Female|\n",
            "Resultado:  |educational-num -> 13|age -> 49|relationship -> Unmarried|fnlwgt -> 245741|marital-status -> Divorced|occupation -> Exec-manhours-per-week -> 60|race -> White|capital-gain -> 0|hours-per-week -> 60|native-country -> United-States|income -> <=50K|capital-loss -> 0|gender -> Female|\n",
            "Faltou:['workclass']\n",
            "TXT: |hours-per-week -> 60|gender -> Female|age -> 49|educational-num -> 13|educational-num -> 13|marital-status -> Divorced|occupation -> Exec-manrace -> White|capital-loss -> 0|native-country -> United-States|relationship -> Unmarried|income -> <=50K|fnlwgt -> 245741|capital-gain -> 0|\n"
          ]
        },
        {
          "output_type": "error",
          "ename": "KeyboardInterrupt",
          "evalue": "",
          "traceback": [
            "\u001b[0;31m---------------------------------------------------------------------------\u001b[0m",
            "\u001b[0;31mKeyboardInterrupt\u001b[0m                         Traceback (most recent call last)",
            "\u001b[0;32m<ipython-input-290-1222f0360bde>\u001b[0m in \u001b[0;36m<cell line: 4>\u001b[0;34m()\u001b[0m\n\u001b[1;32m      9\u001b[0m   \u001b[0;31m# Executa o pipeline e extrai o resultado\u001b[0m\u001b[0;34m\u001b[0m\u001b[0;34m\u001b[0m\u001b[0m\n\u001b[1;32m     10\u001b[0m   \u001b[0mresultado\u001b[0m \u001b[0;34m=\u001b[0m \u001b[0mpipe\u001b[0m\u001b[0;34m(\u001b[0m\u001b[0;34mf\"<s>#### {prompt} ####<s>\"\u001b[0m\u001b[0;34m)\u001b[0m\u001b[0;34m\u001b[0m\u001b[0;34m\u001b[0m\u001b[0m\n\u001b[0;32m---> 11\u001b[0;31m   \u001b[0mprompt\u001b[0m\u001b[0;34m,\u001b[0m \u001b[0mescolhe\u001b[0m \u001b[0;34m=\u001b[0m \u001b[0mtext_to_tabular\u001b[0m\u001b[0;34m(\u001b[0m\u001b[0mresultado\u001b[0m\u001b[0;34m[\u001b[0m\u001b[0;36m0\u001b[0m\u001b[0;34m]\u001b[0m\u001b[0;34m[\u001b[0m\u001b[0;34m'generated_text'\u001b[0m\u001b[0;34m]\u001b[0m\u001b[0;34m,\u001b[0m \u001b[0mfeature\u001b[0m\u001b[0;34m)\u001b[0m\u001b[0;34m\u001b[0m\u001b[0;34m\u001b[0m\u001b[0m\n\u001b[0m\u001b[1;32m     12\u001b[0m   \u001b[0mposicao\u001b[0m \u001b[0;34m=\u001b[0m \u001b[0;32mnot\u001b[0m \u001b[0mescolhe\u001b[0m\u001b[0;34m\u001b[0m\u001b[0;34m\u001b[0m\u001b[0m\n\u001b[1;32m     13\u001b[0m   \u001b[0mprompt\u001b[0m \u001b[0;34m=\u001b[0m \u001b[0membaralha_prompt\u001b[0m\u001b[0;34m(\u001b[0m\u001b[0mprompt\u001b[0m\u001b[0;34m,\u001b[0m \u001b[0mfeature\u001b[0m\u001b[0;34m)\u001b[0m\u001b[0;34m\u001b[0m\u001b[0;34m\u001b[0m\u001b[0m\n",
            "\u001b[0;32m<ipython-input-283-bf1105bc5723>\u001b[0m in \u001b[0;36mtext_to_tabular\u001b[0;34m(txt, feature)\u001b[0m\n\u001b[1;32m     27\u001b[0m   \u001b[0;31m# Executa o pipeline e extrai o resultado\u001b[0m\u001b[0;34m\u001b[0m\u001b[0;34m\u001b[0m\u001b[0m\n\u001b[1;32m     28\u001b[0m     \u001b[0mpalavra\u001b[0m \u001b[0;34m=\u001b[0m \u001b[0membaralha_prompt\u001b[0m\u001b[0;34m(\u001b[0m\u001b[0mpalavra\u001b[0m\u001b[0;34m,\u001b[0m \u001b[0mfeature\u001b[0m\u001b[0;34m)\u001b[0m\u001b[0;34m\u001b[0m\u001b[0;34m\u001b[0m\u001b[0m\n\u001b[0;32m---> 29\u001b[0;31m     \u001b[0mResultado\u001b[0m \u001b[0;34m=\u001b[0m \u001b[0mpipe\u001b[0m\u001b[0;34m(\u001b[0m\u001b[0;34mf\"<s>#### {palavra}\"\u001b[0m\u001b[0;34m)\u001b[0m \u001b[0;31m#####<s>\") ####\u001b[0m\u001b[0;34m\u001b[0m\u001b[0;34m\u001b[0m\u001b[0m\n\u001b[0m\u001b[1;32m     30\u001b[0m     \u001b[0mtxt\u001b[0m \u001b[0;34m=\u001b[0m \u001b[0mresultado\u001b[0m\u001b[0;34m[\u001b[0m\u001b[0;36m0\u001b[0m\u001b[0;34m]\u001b[0m\u001b[0;34m[\u001b[0m\u001b[0;34m'generated_text'\u001b[0m\u001b[0;34m]\u001b[0m\u001b[0;34m\u001b[0m\u001b[0;34m\u001b[0m\u001b[0m\n\u001b[1;32m     31\u001b[0m     \u001b[0mno_find_2\u001b[0m \u001b[0;34m=\u001b[0m \u001b[0;34m[\u001b[0m\u001b[0;34m]\u001b[0m\u001b[0;34m\u001b[0m\u001b[0;34m\u001b[0m\u001b[0m\n",
            "\u001b[0;32m/usr/local/lib/python3.10/dist-packages/transformers/pipelines/text_generation.py\u001b[0m in \u001b[0;36m__call__\u001b[0;34m(self, text_inputs, **kwargs)\u001b[0m\n\u001b[1;32m    260\u001b[0m                 \u001b[0;32mreturn\u001b[0m \u001b[0msuper\u001b[0m\u001b[0;34m(\u001b[0m\u001b[0;34m)\u001b[0m\u001b[0;34m.\u001b[0m\u001b[0m__call__\u001b[0m\u001b[0;34m(\u001b[0m\u001b[0mchats\u001b[0m\u001b[0;34m,\u001b[0m \u001b[0;34m**\u001b[0m\u001b[0mkwargs\u001b[0m\u001b[0;34m)\u001b[0m\u001b[0;34m\u001b[0m\u001b[0;34m\u001b[0m\u001b[0m\n\u001b[1;32m    261\u001b[0m         \u001b[0;32melse\u001b[0m\u001b[0;34m:\u001b[0m\u001b[0;34m\u001b[0m\u001b[0;34m\u001b[0m\u001b[0m\n\u001b[0;32m--> 262\u001b[0;31m             \u001b[0;32mreturn\u001b[0m \u001b[0msuper\u001b[0m\u001b[0;34m(\u001b[0m\u001b[0;34m)\u001b[0m\u001b[0;34m.\u001b[0m\u001b[0m__call__\u001b[0m\u001b[0;34m(\u001b[0m\u001b[0mtext_inputs\u001b[0m\u001b[0;34m,\u001b[0m \u001b[0;34m**\u001b[0m\u001b[0mkwargs\u001b[0m\u001b[0;34m)\u001b[0m\u001b[0;34m\u001b[0m\u001b[0;34m\u001b[0m\u001b[0m\n\u001b[0m\u001b[1;32m    263\u001b[0m \u001b[0;34m\u001b[0m\u001b[0m\n\u001b[1;32m    264\u001b[0m     def preprocess(\n",
            "\u001b[0;32m/usr/local/lib/python3.10/dist-packages/transformers/pipelines/base.py\u001b[0m in \u001b[0;36m__call__\u001b[0;34m(self, inputs, num_workers, batch_size, *args, **kwargs)\u001b[0m\n\u001b[1;32m   1255\u001b[0m             )\n\u001b[1;32m   1256\u001b[0m         \u001b[0;32melse\u001b[0m\u001b[0;34m:\u001b[0m\u001b[0;34m\u001b[0m\u001b[0;34m\u001b[0m\u001b[0m\n\u001b[0;32m-> 1257\u001b[0;31m             \u001b[0;32mreturn\u001b[0m \u001b[0mself\u001b[0m\u001b[0;34m.\u001b[0m\u001b[0mrun_single\u001b[0m\u001b[0;34m(\u001b[0m\u001b[0minputs\u001b[0m\u001b[0;34m,\u001b[0m \u001b[0mpreprocess_params\u001b[0m\u001b[0;34m,\u001b[0m \u001b[0mforward_params\u001b[0m\u001b[0;34m,\u001b[0m \u001b[0mpostprocess_params\u001b[0m\u001b[0;34m)\u001b[0m\u001b[0;34m\u001b[0m\u001b[0;34m\u001b[0m\u001b[0m\n\u001b[0m\u001b[1;32m   1258\u001b[0m \u001b[0;34m\u001b[0m\u001b[0m\n\u001b[1;32m   1259\u001b[0m     \u001b[0;32mdef\u001b[0m \u001b[0mrun_multi\u001b[0m\u001b[0;34m(\u001b[0m\u001b[0mself\u001b[0m\u001b[0;34m,\u001b[0m \u001b[0minputs\u001b[0m\u001b[0;34m,\u001b[0m \u001b[0mpreprocess_params\u001b[0m\u001b[0;34m,\u001b[0m \u001b[0mforward_params\u001b[0m\u001b[0;34m,\u001b[0m \u001b[0mpostprocess_params\u001b[0m\u001b[0;34m)\u001b[0m\u001b[0;34m:\u001b[0m\u001b[0;34m\u001b[0m\u001b[0;34m\u001b[0m\u001b[0m\n",
            "\u001b[0;32m/usr/local/lib/python3.10/dist-packages/transformers/pipelines/base.py\u001b[0m in \u001b[0;36mrun_single\u001b[0;34m(self, inputs, preprocess_params, forward_params, postprocess_params)\u001b[0m\n\u001b[1;32m   1262\u001b[0m     \u001b[0;32mdef\u001b[0m \u001b[0mrun_single\u001b[0m\u001b[0;34m(\u001b[0m\u001b[0mself\u001b[0m\u001b[0;34m,\u001b[0m \u001b[0minputs\u001b[0m\u001b[0;34m,\u001b[0m \u001b[0mpreprocess_params\u001b[0m\u001b[0;34m,\u001b[0m \u001b[0mforward_params\u001b[0m\u001b[0;34m,\u001b[0m \u001b[0mpostprocess_params\u001b[0m\u001b[0;34m)\u001b[0m\u001b[0;34m:\u001b[0m\u001b[0;34m\u001b[0m\u001b[0;34m\u001b[0m\u001b[0m\n\u001b[1;32m   1263\u001b[0m         \u001b[0mmodel_inputs\u001b[0m \u001b[0;34m=\u001b[0m \u001b[0mself\u001b[0m\u001b[0;34m.\u001b[0m\u001b[0mpreprocess\u001b[0m\u001b[0;34m(\u001b[0m\u001b[0minputs\u001b[0m\u001b[0;34m,\u001b[0m \u001b[0;34m**\u001b[0m\u001b[0mpreprocess_params\u001b[0m\u001b[0;34m)\u001b[0m\u001b[0;34m\u001b[0m\u001b[0;34m\u001b[0m\u001b[0m\n\u001b[0;32m-> 1264\u001b[0;31m         \u001b[0mmodel_outputs\u001b[0m \u001b[0;34m=\u001b[0m \u001b[0mself\u001b[0m\u001b[0;34m.\u001b[0m\u001b[0mforward\u001b[0m\u001b[0;34m(\u001b[0m\u001b[0mmodel_inputs\u001b[0m\u001b[0;34m,\u001b[0m \u001b[0;34m**\u001b[0m\u001b[0mforward_params\u001b[0m\u001b[0;34m)\u001b[0m\u001b[0;34m\u001b[0m\u001b[0;34m\u001b[0m\u001b[0m\n\u001b[0m\u001b[1;32m   1265\u001b[0m         \u001b[0moutputs\u001b[0m \u001b[0;34m=\u001b[0m \u001b[0mself\u001b[0m\u001b[0;34m.\u001b[0m\u001b[0mpostprocess\u001b[0m\u001b[0;34m(\u001b[0m\u001b[0mmodel_outputs\u001b[0m\u001b[0;34m,\u001b[0m \u001b[0;34m**\u001b[0m\u001b[0mpostprocess_params\u001b[0m\u001b[0;34m)\u001b[0m\u001b[0;34m\u001b[0m\u001b[0;34m\u001b[0m\u001b[0m\n\u001b[1;32m   1266\u001b[0m         \u001b[0;32mreturn\u001b[0m \u001b[0moutputs\u001b[0m\u001b[0;34m\u001b[0m\u001b[0;34m\u001b[0m\u001b[0m\n",
            "\u001b[0;32m/usr/local/lib/python3.10/dist-packages/transformers/pipelines/base.py\u001b[0m in \u001b[0;36mforward\u001b[0;34m(self, model_inputs, **forward_params)\u001b[0m\n\u001b[1;32m   1162\u001b[0m                 \u001b[0;32mwith\u001b[0m \u001b[0minference_context\u001b[0m\u001b[0;34m(\u001b[0m\u001b[0;34m)\u001b[0m\u001b[0;34m:\u001b[0m\u001b[0;34m\u001b[0m\u001b[0;34m\u001b[0m\u001b[0m\n\u001b[1;32m   1163\u001b[0m                     \u001b[0mmodel_inputs\u001b[0m \u001b[0;34m=\u001b[0m \u001b[0mself\u001b[0m\u001b[0;34m.\u001b[0m\u001b[0m_ensure_tensor_on_device\u001b[0m\u001b[0;34m(\u001b[0m\u001b[0mmodel_inputs\u001b[0m\u001b[0;34m,\u001b[0m \u001b[0mdevice\u001b[0m\u001b[0;34m=\u001b[0m\u001b[0mself\u001b[0m\u001b[0;34m.\u001b[0m\u001b[0mdevice\u001b[0m\u001b[0;34m)\u001b[0m\u001b[0;34m\u001b[0m\u001b[0;34m\u001b[0m\u001b[0m\n\u001b[0;32m-> 1164\u001b[0;31m                     \u001b[0mmodel_outputs\u001b[0m \u001b[0;34m=\u001b[0m \u001b[0mself\u001b[0m\u001b[0;34m.\u001b[0m\u001b[0m_forward\u001b[0m\u001b[0;34m(\u001b[0m\u001b[0mmodel_inputs\u001b[0m\u001b[0;34m,\u001b[0m \u001b[0;34m**\u001b[0m\u001b[0mforward_params\u001b[0m\u001b[0;34m)\u001b[0m\u001b[0;34m\u001b[0m\u001b[0;34m\u001b[0m\u001b[0m\n\u001b[0m\u001b[1;32m   1165\u001b[0m                     \u001b[0mmodel_outputs\u001b[0m \u001b[0;34m=\u001b[0m \u001b[0mself\u001b[0m\u001b[0;34m.\u001b[0m\u001b[0m_ensure_tensor_on_device\u001b[0m\u001b[0;34m(\u001b[0m\u001b[0mmodel_outputs\u001b[0m\u001b[0;34m,\u001b[0m \u001b[0mdevice\u001b[0m\u001b[0;34m=\u001b[0m\u001b[0mtorch\u001b[0m\u001b[0;34m.\u001b[0m\u001b[0mdevice\u001b[0m\u001b[0;34m(\u001b[0m\u001b[0;34m\"cpu\"\u001b[0m\u001b[0;34m)\u001b[0m\u001b[0;34m)\u001b[0m\u001b[0;34m\u001b[0m\u001b[0;34m\u001b[0m\u001b[0m\n\u001b[1;32m   1166\u001b[0m             \u001b[0;32melse\u001b[0m\u001b[0;34m:\u001b[0m\u001b[0;34m\u001b[0m\u001b[0;34m\u001b[0m\u001b[0m\n",
            "\u001b[0;32m/usr/local/lib/python3.10/dist-packages/transformers/pipelines/text_generation.py\u001b[0m in \u001b[0;36m_forward\u001b[0;34m(self, model_inputs, **generate_kwargs)\u001b[0m\n\u001b[1;32m    349\u001b[0m \u001b[0;34m\u001b[0m\u001b[0m\n\u001b[1;32m    350\u001b[0m         \u001b[0;31m# BS x SL\u001b[0m\u001b[0;34m\u001b[0m\u001b[0;34m\u001b[0m\u001b[0m\n\u001b[0;32m--> 351\u001b[0;31m         \u001b[0mgenerated_sequence\u001b[0m \u001b[0;34m=\u001b[0m \u001b[0mself\u001b[0m\u001b[0;34m.\u001b[0m\u001b[0mmodel\u001b[0m\u001b[0;34m.\u001b[0m\u001b[0mgenerate\u001b[0m\u001b[0;34m(\u001b[0m\u001b[0minput_ids\u001b[0m\u001b[0;34m=\u001b[0m\u001b[0minput_ids\u001b[0m\u001b[0;34m,\u001b[0m \u001b[0mattention_mask\u001b[0m\u001b[0;34m=\u001b[0m\u001b[0mattention_mask\u001b[0m\u001b[0;34m,\u001b[0m \u001b[0;34m**\u001b[0m\u001b[0mgenerate_kwargs\u001b[0m\u001b[0;34m)\u001b[0m\u001b[0;34m\u001b[0m\u001b[0;34m\u001b[0m\u001b[0m\n\u001b[0m\u001b[1;32m    352\u001b[0m         \u001b[0mout_b\u001b[0m \u001b[0;34m=\u001b[0m \u001b[0mgenerated_sequence\u001b[0m\u001b[0;34m.\u001b[0m\u001b[0mshape\u001b[0m\u001b[0;34m[\u001b[0m\u001b[0;36m0\u001b[0m\u001b[0;34m]\u001b[0m\u001b[0;34m\u001b[0m\u001b[0;34m\u001b[0m\u001b[0m\n\u001b[1;32m    353\u001b[0m         \u001b[0;32mif\u001b[0m \u001b[0mself\u001b[0m\u001b[0;34m.\u001b[0m\u001b[0mframework\u001b[0m \u001b[0;34m==\u001b[0m \u001b[0;34m\"pt\"\u001b[0m\u001b[0;34m:\u001b[0m\u001b[0;34m\u001b[0m\u001b[0;34m\u001b[0m\u001b[0m\n",
            "\u001b[0;32m/usr/local/lib/python3.10/dist-packages/torch/utils/_contextlib.py\u001b[0m in \u001b[0;36mdecorate_context\u001b[0;34m(*args, **kwargs)\u001b[0m\n\u001b[1;32m    114\u001b[0m     \u001b[0;32mdef\u001b[0m \u001b[0mdecorate_context\u001b[0m\u001b[0;34m(\u001b[0m\u001b[0;34m*\u001b[0m\u001b[0margs\u001b[0m\u001b[0;34m,\u001b[0m \u001b[0;34m**\u001b[0m\u001b[0mkwargs\u001b[0m\u001b[0;34m)\u001b[0m\u001b[0;34m:\u001b[0m\u001b[0;34m\u001b[0m\u001b[0;34m\u001b[0m\u001b[0m\n\u001b[1;32m    115\u001b[0m         \u001b[0;32mwith\u001b[0m \u001b[0mctx_factory\u001b[0m\u001b[0;34m(\u001b[0m\u001b[0;34m)\u001b[0m\u001b[0;34m:\u001b[0m\u001b[0;34m\u001b[0m\u001b[0;34m\u001b[0m\u001b[0m\n\u001b[0;32m--> 116\u001b[0;31m             \u001b[0;32mreturn\u001b[0m \u001b[0mfunc\u001b[0m\u001b[0;34m(\u001b[0m\u001b[0;34m*\u001b[0m\u001b[0margs\u001b[0m\u001b[0;34m,\u001b[0m \u001b[0;34m**\u001b[0m\u001b[0mkwargs\u001b[0m\u001b[0;34m)\u001b[0m\u001b[0;34m\u001b[0m\u001b[0;34m\u001b[0m\u001b[0m\n\u001b[0m\u001b[1;32m    117\u001b[0m \u001b[0;34m\u001b[0m\u001b[0m\n\u001b[1;32m    118\u001b[0m     \u001b[0;32mreturn\u001b[0m \u001b[0mdecorate_context\u001b[0m\u001b[0;34m\u001b[0m\u001b[0;34m\u001b[0m\u001b[0m\n",
            "\u001b[0;32m/usr/local/lib/python3.10/dist-packages/transformers/generation/utils.py\u001b[0m in \u001b[0;36mgenerate\u001b[0;34m(self, inputs, generation_config, logits_processor, stopping_criteria, prefix_allowed_tokens_fn, synced_gpus, assistant_model, streamer, negative_prompt_ids, negative_prompt_attention_mask, **kwargs)\u001b[0m\n\u001b[1;32m   2022\u001b[0m \u001b[0;34m\u001b[0m\u001b[0m\n\u001b[1;32m   2023\u001b[0m             \u001b[0;31m# 13. run sample (it degenerates to greedy search when `generation_config.do_sample=False`)\u001b[0m\u001b[0;34m\u001b[0m\u001b[0;34m\u001b[0m\u001b[0m\n\u001b[0;32m-> 2024\u001b[0;31m             result = self._sample(\n\u001b[0m\u001b[1;32m   2025\u001b[0m                 \u001b[0minput_ids\u001b[0m\u001b[0;34m,\u001b[0m\u001b[0;34m\u001b[0m\u001b[0;34m\u001b[0m\u001b[0m\n\u001b[1;32m   2026\u001b[0m                 \u001b[0mlogits_processor\u001b[0m\u001b[0;34m=\u001b[0m\u001b[0mprepared_logits_processor\u001b[0m\u001b[0;34m,\u001b[0m\u001b[0;34m\u001b[0m\u001b[0;34m\u001b[0m\u001b[0m\n",
            "\u001b[0;32m/usr/local/lib/python3.10/dist-packages/transformers/generation/utils.py\u001b[0m in \u001b[0;36m_sample\u001b[0;34m(self, input_ids, logits_processor, stopping_criteria, generation_config, synced_gpus, streamer, logits_warper, **model_kwargs)\u001b[0m\n\u001b[1;32m   2973\u001b[0m         ):\n\u001b[1;32m   2974\u001b[0m             \u001b[0;31m# prepare model inputs\u001b[0m\u001b[0;34m\u001b[0m\u001b[0;34m\u001b[0m\u001b[0m\n\u001b[0;32m-> 2975\u001b[0;31m             \u001b[0mmodel_inputs\u001b[0m \u001b[0;34m=\u001b[0m \u001b[0mself\u001b[0m\u001b[0;34m.\u001b[0m\u001b[0mprepare_inputs_for_generation\u001b[0m\u001b[0;34m(\u001b[0m\u001b[0minput_ids\u001b[0m\u001b[0;34m,\u001b[0m \u001b[0;34m**\u001b[0m\u001b[0mmodel_kwargs\u001b[0m\u001b[0;34m)\u001b[0m\u001b[0;34m\u001b[0m\u001b[0;34m\u001b[0m\u001b[0m\n\u001b[0m\u001b[1;32m   2976\u001b[0m \u001b[0;34m\u001b[0m\u001b[0m\n\u001b[1;32m   2977\u001b[0m             \u001b[0;31m# prepare variable output controls (note: some models won't accept all output controls)\u001b[0m\u001b[0;34m\u001b[0m\u001b[0;34m\u001b[0m\u001b[0m\n",
            "\u001b[0;32m/usr/local/lib/python3.10/dist-packages/transformers/models/gpt2/modeling_gpt2.py\u001b[0m in \u001b[0;36mprepare_inputs_for_generation\u001b[0;34m(self, input_ids, past_key_values, inputs_embeds, **kwargs)\u001b[0m\n\u001b[1;32m   1258\u001b[0m             \u001b[0;31m# create position_ids on the fly for batch generation\u001b[0m\u001b[0;34m\u001b[0m\u001b[0;34m\u001b[0m\u001b[0m\n\u001b[1;32m   1259\u001b[0m             \u001b[0mposition_ids\u001b[0m \u001b[0;34m=\u001b[0m \u001b[0mattention_mask\u001b[0m\u001b[0;34m.\u001b[0m\u001b[0mlong\u001b[0m\u001b[0;34m(\u001b[0m\u001b[0;34m)\u001b[0m\u001b[0;34m.\u001b[0m\u001b[0mcumsum\u001b[0m\u001b[0;34m(\u001b[0m\u001b[0;34m-\u001b[0m\u001b[0;36m1\u001b[0m\u001b[0;34m)\u001b[0m \u001b[0;34m-\u001b[0m \u001b[0;36m1\u001b[0m\u001b[0;34m\u001b[0m\u001b[0;34m\u001b[0m\u001b[0m\n\u001b[0;32m-> 1260\u001b[0;31m             \u001b[0mposition_ids\u001b[0m\u001b[0;34m.\u001b[0m\u001b[0mmasked_fill_\u001b[0m\u001b[0;34m(\u001b[0m\u001b[0mattention_mask\u001b[0m \u001b[0;34m==\u001b[0m \u001b[0;36m0\u001b[0m\u001b[0;34m,\u001b[0m \u001b[0;36m1\u001b[0m\u001b[0;34m)\u001b[0m\u001b[0;34m\u001b[0m\u001b[0;34m\u001b[0m\u001b[0m\n\u001b[0m\u001b[1;32m   1261\u001b[0m             \u001b[0;32mif\u001b[0m \u001b[0mpast_key_values\u001b[0m\u001b[0;34m:\u001b[0m\u001b[0;34m\u001b[0m\u001b[0;34m\u001b[0m\u001b[0m\n\u001b[1;32m   1262\u001b[0m                 \u001b[0mposition_ids\u001b[0m \u001b[0;34m=\u001b[0m \u001b[0mposition_ids\u001b[0m\u001b[0;34m[\u001b[0m\u001b[0;34m:\u001b[0m\u001b[0;34m,\u001b[0m \u001b[0;34m-\u001b[0m\u001b[0minput_ids\u001b[0m\u001b[0;34m.\u001b[0m\u001b[0mshape\u001b[0m\u001b[0;34m[\u001b[0m\u001b[0;36m1\u001b[0m\u001b[0;34m]\u001b[0m \u001b[0;34m:\u001b[0m\u001b[0;34m]\u001b[0m\u001b[0;34m\u001b[0m\u001b[0;34m\u001b[0m\u001b[0m\n",
            "\u001b[0;31mKeyboardInterrupt\u001b[0m: "
          ]
        }
      ]
    },
    {
      "cell_type": "code",
      "source": [
        "# criar funcao text_to_pandas"
      ],
      "metadata": {
        "id": "pxRMf7-nwTzM"
      },
      "execution_count": null,
      "outputs": []
    },
    {
      "cell_type": "markdown",
      "source": [
        "## Métricas"
      ],
      "metadata": {
        "id": "fPCx0pOZcesB"
      }
    },
    {
      "cell_type": "code",
      "execution_count": null,
      "metadata": {
        "id": "Fgn7xQF8iB0D",
        "colab": {
          "base_uri": "https://localhost:8080/"
        },
        "outputId": "653ad13c-35a0-4731-a420-0df01c58c4dc"
      },
      "outputs": [
        {
          "output_type": "stream",
          "name": "stdout",
          "text": [
            "BLEU-2 score: 0.6324555320336759\n"
          ]
        }
      ],
      "source": [
        "from collections import Counter\n",
        "import nltk.translate.bleu_score as bleu\n",
        "\n",
        "\n",
        "def calculate_BLEU(generated_summary, reference_summary, n):\n",
        "    # Tokenize the generated summary and reference summary\n",
        "    generated_tokens = generated_summary.split()\n",
        "    reference_tokens = reference_summary.split()\n",
        "\n",
        "    # Calculate the BLEU score\n",
        "    weights = [1.0 / n] * n  # Weights for n-gram precision calculation\n",
        "    bleu_score = bleu.sentence_bleu([reference_tokens], generated_tokens, weights=weights)\n",
        "\n",
        "    return bleu_score\n",
        "\n",
        "\n",
        "# Example usage\n",
        "generated_summary = \"The dog slept on the couch.\"\n",
        "reference_summary = \"The dog slept on te\"\n",
        "n = 2  # Bigram\n",
        "\n",
        "bleu_score = calculate_BLEU(generated_summary, reference_summary, n)\n",
        "print(f\"BLEU-{n} score: {bleu_score}\")"
      ]
    },
    {
      "cell_type": "code",
      "source": [
        "result = [R1, R2, R3, R4]\n",
        "conta = 0\n",
        "conta_2 = 0\n",
        "for x in result:\n",
        "  conta += 1\n",
        "  for y in result:\n",
        "    conta_2 += 1\n",
        "    bleu_score = calculate_BLEU(x, y, n=2)\n",
        "    print(f\"BLEU-{n} R{conta}.R{conta_2} - score: {bleu_score}\")"
      ],
      "metadata": {
        "colab": {
          "base_uri": "https://localhost:8080/"
        },
        "id": "vroy06qyg8qd",
        "outputId": "1c0f7feb-03c9-4a41-9b8d-0ba8c39be95e"
      },
      "execution_count": null,
      "outputs": [
        {
          "output_type": "stream",
          "name": "stdout",
          "text": [
            "BLEU-2 R1.R1 - score: 1.0\n",
            "BLEU-2 R1.R2 - score: 0.24333213169614382\n",
            "BLEU-2 R1.R3 - score: 0.173421993904824\n",
            "BLEU-2 R1.R4 - score: 0.2691262104723413\n",
            "BLEU-2 R2.R5 - score: 0.239001141952869\n",
            "BLEU-2 R2.R6 - score: 1.0\n",
            "BLEU-2 R2.R7 - score: 0.23702391582353877\n",
            "BLEU-2 R2.R8 - score: 0.20808978278463242\n",
            "BLEU-2 R3.R9 - score: 0.17249323129229274\n",
            "BLEU-2 R3.R10 - score: 0.23763541031440186\n",
            "BLEU-2 R3.R11 - score: 1.0\n",
            "BLEU-2 R3.R12 - score: 0.27815518971151965\n",
            "BLEU-2 R4.R13 - score: 0.26920668352966776\n",
            "BLEU-2 R4.R14 - score: 0.21351200388648786\n",
            "BLEU-2 R4.R15 - score: 0.2808936228404366\n",
            "BLEU-2 R4.R16 - score: 1.0\n"
          ]
        }
      ]
    },
    {
      "cell_type": "code",
      "source": [
        "from collections import Counter\n",
        "import re\n",
        "\n",
        "\n",
        "def calculate_ROUGE(generated_summary, reference_summary, n):\n",
        "    # Tokenize the generated summary and reference summary into n-grams\n",
        "    generated_ngrams = generate_ngrams(generated_summary, n)\n",
        "    reference_ngrams = generate_ngrams(reference_summary, n)\n",
        "\n",
        "    # Calculate the recall score\n",
        "    matching_ngrams = len(set(generated_ngrams) & set(reference_ngrams))\n",
        "    recall_score = matching_ngrams / len(reference_ngrams)\n",
        "\n",
        "    return recall_score\n",
        "\n",
        "\n",
        "def generate_ngrams(text, n):\n",
        "    # Preprocess text by removing punctuation and converting to lowercase\n",
        "    text = re.sub(r'[^\\w\\s]', '', text.lower())\n",
        "\n",
        "    # Generate n-grams from the preprocessed text\n",
        "    words = text.split()\n",
        "    ngrams = [tuple(words[i:i+n]) for i in range(len(words) - n + 1)]\n",
        "\n",
        "    return ngrams\n",
        "\n",
        "\n",
        "# Example usage\n",
        "generated_summary = \"The dog slept on the couch.\"\n",
        "reference_summary = \"The dog slept on the couch.\"\n",
        "n = 2  # bigram\n",
        "\n",
        "rouge_score = calculate_ROUGE(generated_summary, reference_summary, n)\n",
        "print(f\"ROUGE-{n} score: {rouge_score}\")"
      ],
      "metadata": {
        "colab": {
          "base_uri": "https://localhost:8080/"
        },
        "id": "_zLYSjErcxCW",
        "outputId": "be3bc4f8-8c55-47b0-f986-90e5b1aea3d0"
      },
      "execution_count": null,
      "outputs": [
        {
          "output_type": "stream",
          "name": "stdout",
          "text": [
            "ROUGE-2 score: 1.0\n"
          ]
        }
      ]
    }
  ],
  "metadata": {
    "accelerator": "GPU",
    "colab": {
      "gpuType": "T4",
      "provenance": [],
      "mount_file_id": "1HayezsQmVHdD5DHYDsXvWwEzB-w-OOnI",
      "authorship_tag": "ABX9TyNCQMXS4IAfZe1DMvI+rjsr",
      "include_colab_link": true
    },
    "kernelspec": {
      "display_name": "Python 3",
      "name": "python3"
    },
    "language_info": {
      "name": "python"
    },
    "widgets": {
      "application/vnd.jupyter.widget-state+json": {
        "89c2fa49665c4067bc6cddb926642a98": {
          "model_module": "@jupyter-widgets/controls",
          "model_name": "HBoxModel",
          "model_module_version": "1.5.0",
          "state": {
            "_dom_classes": [],
            "_model_module": "@jupyter-widgets/controls",
            "_model_module_version": "1.5.0",
            "_model_name": "HBoxModel",
            "_view_count": null,
            "_view_module": "@jupyter-widgets/controls",
            "_view_module_version": "1.5.0",
            "_view_name": "HBoxView",
            "box_style": "",
            "children": [
              "IPY_MODEL_a6652811f5bd4f5796dd582680b5abba",
              "IPY_MODEL_42d116e40f8f46bc9c583d1c1d8a8b22",
              "IPY_MODEL_6e0ec7f2dc0b49c1828c1a8eb7bd5cd3"
            ],
            "layout": "IPY_MODEL_5ea4da0f7a7e49af81596c40bf831058"
          }
        },
        "a6652811f5bd4f5796dd582680b5abba": {
          "model_module": "@jupyter-widgets/controls",
          "model_name": "HTMLModel",
          "model_module_version": "1.5.0",
          "state": {
            "_dom_classes": [],
            "_model_module": "@jupyter-widgets/controls",
            "_model_module_version": "1.5.0",
            "_model_name": "HTMLModel",
            "_view_count": null,
            "_view_module": "@jupyter-widgets/controls",
            "_view_module_version": "1.5.0",
            "_view_name": "HTMLView",
            "description": "",
            "description_tooltip": null,
            "layout": "IPY_MODEL_457370c01d2b47a7bdbeec7be07a9d8d",
            "placeholder": "​",
            "style": "IPY_MODEL_a6116b7e097748c1857131692e00c288",
            "value": "Map: 100%"
          }
        },
        "42d116e40f8f46bc9c583d1c1d8a8b22": {
          "model_module": "@jupyter-widgets/controls",
          "model_name": "FloatProgressModel",
          "model_module_version": "1.5.0",
          "state": {
            "_dom_classes": [],
            "_model_module": "@jupyter-widgets/controls",
            "_model_module_version": "1.5.0",
            "_model_name": "FloatProgressModel",
            "_view_count": null,
            "_view_module": "@jupyter-widgets/controls",
            "_view_module_version": "1.5.0",
            "_view_name": "ProgressView",
            "bar_style": "success",
            "description": "",
            "description_tooltip": null,
            "layout": "IPY_MODEL_34fed7f750834b3b83774e42a7f2f33d",
            "max": 8000,
            "min": 0,
            "orientation": "horizontal",
            "style": "IPY_MODEL_102058e0c93344a9b862466151710653",
            "value": 8000
          }
        },
        "6e0ec7f2dc0b49c1828c1a8eb7bd5cd3": {
          "model_module": "@jupyter-widgets/controls",
          "model_name": "HTMLModel",
          "model_module_version": "1.5.0",
          "state": {
            "_dom_classes": [],
            "_model_module": "@jupyter-widgets/controls",
            "_model_module_version": "1.5.0",
            "_model_name": "HTMLModel",
            "_view_count": null,
            "_view_module": "@jupyter-widgets/controls",
            "_view_module_version": "1.5.0",
            "_view_name": "HTMLView",
            "description": "",
            "description_tooltip": null,
            "layout": "IPY_MODEL_7c542ac2de7c4a7c9b55395c5865fdd4",
            "placeholder": "​",
            "style": "IPY_MODEL_5668b0b15da942d4b02d6866c06d370d",
            "value": " 8000/8000 [00:06&lt;00:00, 1236.43 examples/s]"
          }
        },
        "5ea4da0f7a7e49af81596c40bf831058": {
          "model_module": "@jupyter-widgets/base",
          "model_name": "LayoutModel",
          "model_module_version": "1.2.0",
          "state": {
            "_model_module": "@jupyter-widgets/base",
            "_model_module_version": "1.2.0",
            "_model_name": "LayoutModel",
            "_view_count": null,
            "_view_module": "@jupyter-widgets/base",
            "_view_module_version": "1.2.0",
            "_view_name": "LayoutView",
            "align_content": null,
            "align_items": null,
            "align_self": null,
            "border": null,
            "bottom": null,
            "display": null,
            "flex": null,
            "flex_flow": null,
            "grid_area": null,
            "grid_auto_columns": null,
            "grid_auto_flow": null,
            "grid_auto_rows": null,
            "grid_column": null,
            "grid_gap": null,
            "grid_row": null,
            "grid_template_areas": null,
            "grid_template_columns": null,
            "grid_template_rows": null,
            "height": null,
            "justify_content": null,
            "justify_items": null,
            "left": null,
            "margin": null,
            "max_height": null,
            "max_width": null,
            "min_height": null,
            "min_width": null,
            "object_fit": null,
            "object_position": null,
            "order": null,
            "overflow": null,
            "overflow_x": null,
            "overflow_y": null,
            "padding": null,
            "right": null,
            "top": null,
            "visibility": null,
            "width": null
          }
        },
        "457370c01d2b47a7bdbeec7be07a9d8d": {
          "model_module": "@jupyter-widgets/base",
          "model_name": "LayoutModel",
          "model_module_version": "1.2.0",
          "state": {
            "_model_module": "@jupyter-widgets/base",
            "_model_module_version": "1.2.0",
            "_model_name": "LayoutModel",
            "_view_count": null,
            "_view_module": "@jupyter-widgets/base",
            "_view_module_version": "1.2.0",
            "_view_name": "LayoutView",
            "align_content": null,
            "align_items": null,
            "align_self": null,
            "border": null,
            "bottom": null,
            "display": null,
            "flex": null,
            "flex_flow": null,
            "grid_area": null,
            "grid_auto_columns": null,
            "grid_auto_flow": null,
            "grid_auto_rows": null,
            "grid_column": null,
            "grid_gap": null,
            "grid_row": null,
            "grid_template_areas": null,
            "grid_template_columns": null,
            "grid_template_rows": null,
            "height": null,
            "justify_content": null,
            "justify_items": null,
            "left": null,
            "margin": null,
            "max_height": null,
            "max_width": null,
            "min_height": null,
            "min_width": null,
            "object_fit": null,
            "object_position": null,
            "order": null,
            "overflow": null,
            "overflow_x": null,
            "overflow_y": null,
            "padding": null,
            "right": null,
            "top": null,
            "visibility": null,
            "width": null
          }
        },
        "a6116b7e097748c1857131692e00c288": {
          "model_module": "@jupyter-widgets/controls",
          "model_name": "DescriptionStyleModel",
          "model_module_version": "1.5.0",
          "state": {
            "_model_module": "@jupyter-widgets/controls",
            "_model_module_version": "1.5.0",
            "_model_name": "DescriptionStyleModel",
            "_view_count": null,
            "_view_module": "@jupyter-widgets/base",
            "_view_module_version": "1.2.0",
            "_view_name": "StyleView",
            "description_width": ""
          }
        },
        "34fed7f750834b3b83774e42a7f2f33d": {
          "model_module": "@jupyter-widgets/base",
          "model_name": "LayoutModel",
          "model_module_version": "1.2.0",
          "state": {
            "_model_module": "@jupyter-widgets/base",
            "_model_module_version": "1.2.0",
            "_model_name": "LayoutModel",
            "_view_count": null,
            "_view_module": "@jupyter-widgets/base",
            "_view_module_version": "1.2.0",
            "_view_name": "LayoutView",
            "align_content": null,
            "align_items": null,
            "align_self": null,
            "border": null,
            "bottom": null,
            "display": null,
            "flex": null,
            "flex_flow": null,
            "grid_area": null,
            "grid_auto_columns": null,
            "grid_auto_flow": null,
            "grid_auto_rows": null,
            "grid_column": null,
            "grid_gap": null,
            "grid_row": null,
            "grid_template_areas": null,
            "grid_template_columns": null,
            "grid_template_rows": null,
            "height": null,
            "justify_content": null,
            "justify_items": null,
            "left": null,
            "margin": null,
            "max_height": null,
            "max_width": null,
            "min_height": null,
            "min_width": null,
            "object_fit": null,
            "object_position": null,
            "order": null,
            "overflow": null,
            "overflow_x": null,
            "overflow_y": null,
            "padding": null,
            "right": null,
            "top": null,
            "visibility": null,
            "width": null
          }
        },
        "102058e0c93344a9b862466151710653": {
          "model_module": "@jupyter-widgets/controls",
          "model_name": "ProgressStyleModel",
          "model_module_version": "1.5.0",
          "state": {
            "_model_module": "@jupyter-widgets/controls",
            "_model_module_version": "1.5.0",
            "_model_name": "ProgressStyleModel",
            "_view_count": null,
            "_view_module": "@jupyter-widgets/base",
            "_view_module_version": "1.2.0",
            "_view_name": "StyleView",
            "bar_color": null,
            "description_width": ""
          }
        },
        "7c542ac2de7c4a7c9b55395c5865fdd4": {
          "model_module": "@jupyter-widgets/base",
          "model_name": "LayoutModel",
          "model_module_version": "1.2.0",
          "state": {
            "_model_module": "@jupyter-widgets/base",
            "_model_module_version": "1.2.0",
            "_model_name": "LayoutModel",
            "_view_count": null,
            "_view_module": "@jupyter-widgets/base",
            "_view_module_version": "1.2.0",
            "_view_name": "LayoutView",
            "align_content": null,
            "align_items": null,
            "align_self": null,
            "border": null,
            "bottom": null,
            "display": null,
            "flex": null,
            "flex_flow": null,
            "grid_area": null,
            "grid_auto_columns": null,
            "grid_auto_flow": null,
            "grid_auto_rows": null,
            "grid_column": null,
            "grid_gap": null,
            "grid_row": null,
            "grid_template_areas": null,
            "grid_template_columns": null,
            "grid_template_rows": null,
            "height": null,
            "justify_content": null,
            "justify_items": null,
            "left": null,
            "margin": null,
            "max_height": null,
            "max_width": null,
            "min_height": null,
            "min_width": null,
            "object_fit": null,
            "object_position": null,
            "order": null,
            "overflow": null,
            "overflow_x": null,
            "overflow_y": null,
            "padding": null,
            "right": null,
            "top": null,
            "visibility": null,
            "width": null
          }
        },
        "5668b0b15da942d4b02d6866c06d370d": {
          "model_module": "@jupyter-widgets/controls",
          "model_name": "DescriptionStyleModel",
          "model_module_version": "1.5.0",
          "state": {
            "_model_module": "@jupyter-widgets/controls",
            "_model_module_version": "1.5.0",
            "_model_name": "DescriptionStyleModel",
            "_view_count": null,
            "_view_module": "@jupyter-widgets/base",
            "_view_module_version": "1.2.0",
            "_view_name": "StyleView",
            "description_width": ""
          }
        },
        "60d1ced50aac43d48c4d6180edc68c60": {
          "model_module": "@jupyter-widgets/controls",
          "model_name": "HBoxModel",
          "model_module_version": "1.5.0",
          "state": {
            "_dom_classes": [],
            "_model_module": "@jupyter-widgets/controls",
            "_model_module_version": "1.5.0",
            "_model_name": "HBoxModel",
            "_view_count": null,
            "_view_module": "@jupyter-widgets/controls",
            "_view_module_version": "1.5.0",
            "_view_name": "HBoxView",
            "box_style": "",
            "children": [
              "IPY_MODEL_f672999f75674495bf934a143fb6cbca",
              "IPY_MODEL_b301dd48e92946508ab8e52f76dc9cf6",
              "IPY_MODEL_b608e755668f4be385971596563588df"
            ],
            "layout": "IPY_MODEL_b24a8f6b8bb14a3d999587252a5dd3a2"
          }
        },
        "f672999f75674495bf934a143fb6cbca": {
          "model_module": "@jupyter-widgets/controls",
          "model_name": "HTMLModel",
          "model_module_version": "1.5.0",
          "state": {
            "_dom_classes": [],
            "_model_module": "@jupyter-widgets/controls",
            "_model_module_version": "1.5.0",
            "_model_name": "HTMLModel",
            "_view_count": null,
            "_view_module": "@jupyter-widgets/controls",
            "_view_module_version": "1.5.0",
            "_view_name": "HTMLView",
            "description": "",
            "description_tooltip": null,
            "layout": "IPY_MODEL_e6cde77158a144e0b59fc73a825f6e62",
            "placeholder": "​",
            "style": "IPY_MODEL_be99cbf54a20443b9dd6973584f0c519",
            "value": "Map: 100%"
          }
        },
        "b301dd48e92946508ab8e52f76dc9cf6": {
          "model_module": "@jupyter-widgets/controls",
          "model_name": "FloatProgressModel",
          "model_module_version": "1.5.0",
          "state": {
            "_dom_classes": [],
            "_model_module": "@jupyter-widgets/controls",
            "_model_module_version": "1.5.0",
            "_model_name": "FloatProgressModel",
            "_view_count": null,
            "_view_module": "@jupyter-widgets/controls",
            "_view_module_version": "1.5.0",
            "_view_name": "ProgressView",
            "bar_style": "success",
            "description": "",
            "description_tooltip": null,
            "layout": "IPY_MODEL_4a074eb07063465987a9f79a49216efb",
            "max": 2000,
            "min": 0,
            "orientation": "horizontal",
            "style": "IPY_MODEL_9ec2fc1b26654992a858e0f4cbc97ba0",
            "value": 2000
          }
        },
        "b608e755668f4be385971596563588df": {
          "model_module": "@jupyter-widgets/controls",
          "model_name": "HTMLModel",
          "model_module_version": "1.5.0",
          "state": {
            "_dom_classes": [],
            "_model_module": "@jupyter-widgets/controls",
            "_model_module_version": "1.5.0",
            "_model_name": "HTMLModel",
            "_view_count": null,
            "_view_module": "@jupyter-widgets/controls",
            "_view_module_version": "1.5.0",
            "_view_name": "HTMLView",
            "description": "",
            "description_tooltip": null,
            "layout": "IPY_MODEL_aefe3904c916494fbc816ec1fcc1312e",
            "placeholder": "​",
            "style": "IPY_MODEL_b607c296c9e543c89c367d3f964ee866",
            "value": " 2000/2000 [00:01&lt;00:00, 1709.63 examples/s]"
          }
        },
        "b24a8f6b8bb14a3d999587252a5dd3a2": {
          "model_module": "@jupyter-widgets/base",
          "model_name": "LayoutModel",
          "model_module_version": "1.2.0",
          "state": {
            "_model_module": "@jupyter-widgets/base",
            "_model_module_version": "1.2.0",
            "_model_name": "LayoutModel",
            "_view_count": null,
            "_view_module": "@jupyter-widgets/base",
            "_view_module_version": "1.2.0",
            "_view_name": "LayoutView",
            "align_content": null,
            "align_items": null,
            "align_self": null,
            "border": null,
            "bottom": null,
            "display": null,
            "flex": null,
            "flex_flow": null,
            "grid_area": null,
            "grid_auto_columns": null,
            "grid_auto_flow": null,
            "grid_auto_rows": null,
            "grid_column": null,
            "grid_gap": null,
            "grid_row": null,
            "grid_template_areas": null,
            "grid_template_columns": null,
            "grid_template_rows": null,
            "height": null,
            "justify_content": null,
            "justify_items": null,
            "left": null,
            "margin": null,
            "max_height": null,
            "max_width": null,
            "min_height": null,
            "min_width": null,
            "object_fit": null,
            "object_position": null,
            "order": null,
            "overflow": null,
            "overflow_x": null,
            "overflow_y": null,
            "padding": null,
            "right": null,
            "top": null,
            "visibility": null,
            "width": null
          }
        },
        "e6cde77158a144e0b59fc73a825f6e62": {
          "model_module": "@jupyter-widgets/base",
          "model_name": "LayoutModel",
          "model_module_version": "1.2.0",
          "state": {
            "_model_module": "@jupyter-widgets/base",
            "_model_module_version": "1.2.0",
            "_model_name": "LayoutModel",
            "_view_count": null,
            "_view_module": "@jupyter-widgets/base",
            "_view_module_version": "1.2.0",
            "_view_name": "LayoutView",
            "align_content": null,
            "align_items": null,
            "align_self": null,
            "border": null,
            "bottom": null,
            "display": null,
            "flex": null,
            "flex_flow": null,
            "grid_area": null,
            "grid_auto_columns": null,
            "grid_auto_flow": null,
            "grid_auto_rows": null,
            "grid_column": null,
            "grid_gap": null,
            "grid_row": null,
            "grid_template_areas": null,
            "grid_template_columns": null,
            "grid_template_rows": null,
            "height": null,
            "justify_content": null,
            "justify_items": null,
            "left": null,
            "margin": null,
            "max_height": null,
            "max_width": null,
            "min_height": null,
            "min_width": null,
            "object_fit": null,
            "object_position": null,
            "order": null,
            "overflow": null,
            "overflow_x": null,
            "overflow_y": null,
            "padding": null,
            "right": null,
            "top": null,
            "visibility": null,
            "width": null
          }
        },
        "be99cbf54a20443b9dd6973584f0c519": {
          "model_module": "@jupyter-widgets/controls",
          "model_name": "DescriptionStyleModel",
          "model_module_version": "1.5.0",
          "state": {
            "_model_module": "@jupyter-widgets/controls",
            "_model_module_version": "1.5.0",
            "_model_name": "DescriptionStyleModel",
            "_view_count": null,
            "_view_module": "@jupyter-widgets/base",
            "_view_module_version": "1.2.0",
            "_view_name": "StyleView",
            "description_width": ""
          }
        },
        "4a074eb07063465987a9f79a49216efb": {
          "model_module": "@jupyter-widgets/base",
          "model_name": "LayoutModel",
          "model_module_version": "1.2.0",
          "state": {
            "_model_module": "@jupyter-widgets/base",
            "_model_module_version": "1.2.0",
            "_model_name": "LayoutModel",
            "_view_count": null,
            "_view_module": "@jupyter-widgets/base",
            "_view_module_version": "1.2.0",
            "_view_name": "LayoutView",
            "align_content": null,
            "align_items": null,
            "align_self": null,
            "border": null,
            "bottom": null,
            "display": null,
            "flex": null,
            "flex_flow": null,
            "grid_area": null,
            "grid_auto_columns": null,
            "grid_auto_flow": null,
            "grid_auto_rows": null,
            "grid_column": null,
            "grid_gap": null,
            "grid_row": null,
            "grid_template_areas": null,
            "grid_template_columns": null,
            "grid_template_rows": null,
            "height": null,
            "justify_content": null,
            "justify_items": null,
            "left": null,
            "margin": null,
            "max_height": null,
            "max_width": null,
            "min_height": null,
            "min_width": null,
            "object_fit": null,
            "object_position": null,
            "order": null,
            "overflow": null,
            "overflow_x": null,
            "overflow_y": null,
            "padding": null,
            "right": null,
            "top": null,
            "visibility": null,
            "width": null
          }
        },
        "9ec2fc1b26654992a858e0f4cbc97ba0": {
          "model_module": "@jupyter-widgets/controls",
          "model_name": "ProgressStyleModel",
          "model_module_version": "1.5.0",
          "state": {
            "_model_module": "@jupyter-widgets/controls",
            "_model_module_version": "1.5.0",
            "_model_name": "ProgressStyleModel",
            "_view_count": null,
            "_view_module": "@jupyter-widgets/base",
            "_view_module_version": "1.2.0",
            "_view_name": "StyleView",
            "bar_color": null,
            "description_width": ""
          }
        },
        "aefe3904c916494fbc816ec1fcc1312e": {
          "model_module": "@jupyter-widgets/base",
          "model_name": "LayoutModel",
          "model_module_version": "1.2.0",
          "state": {
            "_model_module": "@jupyter-widgets/base",
            "_model_module_version": "1.2.0",
            "_model_name": "LayoutModel",
            "_view_count": null,
            "_view_module": "@jupyter-widgets/base",
            "_view_module_version": "1.2.0",
            "_view_name": "LayoutView",
            "align_content": null,
            "align_items": null,
            "align_self": null,
            "border": null,
            "bottom": null,
            "display": null,
            "flex": null,
            "flex_flow": null,
            "grid_area": null,
            "grid_auto_columns": null,
            "grid_auto_flow": null,
            "grid_auto_rows": null,
            "grid_column": null,
            "grid_gap": null,
            "grid_row": null,
            "grid_template_areas": null,
            "grid_template_columns": null,
            "grid_template_rows": null,
            "height": null,
            "justify_content": null,
            "justify_items": null,
            "left": null,
            "margin": null,
            "max_height": null,
            "max_width": null,
            "min_height": null,
            "min_width": null,
            "object_fit": null,
            "object_position": null,
            "order": null,
            "overflow": null,
            "overflow_x": null,
            "overflow_y": null,
            "padding": null,
            "right": null,
            "top": null,
            "visibility": null,
            "width": null
          }
        },
        "b607c296c9e543c89c367d3f964ee866": {
          "model_module": "@jupyter-widgets/controls",
          "model_name": "DescriptionStyleModel",
          "model_module_version": "1.5.0",
          "state": {
            "_model_module": "@jupyter-widgets/controls",
            "_model_module_version": "1.5.0",
            "_model_name": "DescriptionStyleModel",
            "_view_count": null,
            "_view_module": "@jupyter-widgets/base",
            "_view_module_version": "1.2.0",
            "_view_name": "StyleView",
            "description_width": ""
          }
        }
      }
    }
  },
  "nbformat": 4,
  "nbformat_minor": 0
}